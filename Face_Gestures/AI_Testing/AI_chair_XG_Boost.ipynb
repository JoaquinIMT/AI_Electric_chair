{
  "cells": [
    {
      "cell_type": "code",
      "execution_count": 24,
      "metadata": {
        "colab": {
          "base_uri": "https://localhost:8080/",
          "height": 35
        },
        "id": "kZur-JHmZh0o",
        "outputId": "80f9fa4f-378c-4e81-df8a-c6621ad29f61"
      },
      "outputs": [
        {
          "output_type": "execute_result",
          "data": {
            "text/plain": [
              "'1.6.1'"
            ],
            "application/vnd.google.colaboratory.intrinsic+json": {
              "type": "string"
            }
          },
          "metadata": {},
          "execution_count": 24
        }
      ],
      "source": [
        "import xgboost as xgb\n",
        "xgb.__version__"
      ]
    },
    {
      "cell_type": "code",
      "execution_count": 2,
      "metadata": {
        "colab": {
          "base_uri": "https://localhost:8080/",
          "height": 302
        },
        "id": "YGCqyU64ZZ4U",
        "outputId": "52f8dc32-9be8-49c5-dff1-082338decf2b"
      },
      "outputs": [
        {
          "output_type": "stream",
          "name": "stdout",
          "text": [
            "Collecting xgboost==1.6.1\n",
            "  Downloading xgboost-1.6.1-py3-none-manylinux2014_x86_64.whl (192.9 MB)\n",
            "\u001b[K     |████████████████████████████████| 192.9 MB 52 kB/s \n",
            "\u001b[?25hRequirement already satisfied: numpy in /usr/local/lib/python3.7/dist-packages (from xgboost==1.6.1) (1.21.6)\n",
            "Requirement already satisfied: scipy in /usr/local/lib/python3.7/dist-packages (from xgboost==1.6.1) (1.4.1)\n",
            "Installing collected packages: xgboost\n",
            "  Attempting uninstall: xgboost\n",
            "    Found existing installation: xgboost 0.90\n",
            "    Uninstalling xgboost-0.90:\n",
            "      Successfully uninstalled xgboost-0.90\n",
            "Successfully installed xgboost-1.6.1\n"
          ]
        },
        {
          "output_type": "display_data",
          "data": {
            "application/vnd.colab-display-data+json": {
              "pip_warning": {
                "packages": [
                  "xgboost"
                ]
              }
            }
          },
          "metadata": {}
        }
      ],
      "source": [
        "!pip install xgboost==1.6.1"
      ]
    },
    {
      "cell_type": "code",
      "execution_count": 2,
      "metadata": {
        "id": "TfRbJFsAtGJx"
      },
      "outputs": [],
      "source": [
        "import pandas as pd\n",
        "import numpy as np\n",
        "import plotly.graph_objects as go\n",
        "import plotly.figure_factory as ff\n",
        "import plotly.express as px\n",
        "import seaborn as sns\n",
        "import matplotlib.pyplot as plt\n",
        "from plotly.subplots import make_subplots\n",
        "%matplotlib inline"
      ]
    },
    {
      "cell_type": "code",
      "execution_count": 4,
      "metadata": {
        "colab": {
          "base_uri": "https://localhost:8080/"
        },
        "id": "20FbwegJtI_a",
        "outputId": "64a023ad-1e08-489b-c183-e6992f511377"
      },
      "outputs": [
        {
          "output_type": "stream",
          "name": "stdout",
          "text": [
            "Mounted at /content/drive\n"
          ]
        }
      ],
      "source": [
        "from google.colab import drive\n",
        "drive.mount('/content/drive')"
      ]
    },
    {
      "cell_type": "code",
      "execution_count": 5,
      "metadata": {
        "colab": {
          "base_uri": "https://localhost:8080/",
          "height": 488
        },
        "id": "QxtasrlStKZa",
        "outputId": "aa0812ff-b3f1-44eb-9988-bcd50a114a7a"
      },
      "outputs": [
        {
          "output_type": "execute_result",
          "data": {
            "text/plain": [
              "             0         1         2         3         4         5         6  \\\n",
              "0     0.544275  0.489766  0.478252  0.381462  0.544920  0.507024  0.544717   \n",
              "1     0.534347  0.493370  0.470491  0.378985  0.535169  0.508110  0.535000   \n",
              "2     0.533318  0.494122  0.467963  0.379832  0.534231  0.509847  0.533963   \n",
              "3     0.532908  0.495667  0.467501  0.380133  0.533887  0.510025  0.533832   \n",
              "4     0.532545  0.494852  0.468164  0.379853  0.533831  0.509942  0.533748   \n",
              "...        ...       ...       ...       ...       ...       ...       ...   \n",
              "4995  0.592283  0.485065  0.523655  0.339939  0.590946  0.505730  0.590502   \n",
              "4996  0.602635  0.480942  0.535009  0.333243  0.601282  0.502181  0.600842   \n",
              "4997  0.614582  0.477595  0.545290  0.328027  0.612743  0.499077  0.612232   \n",
              "4998  0.624917  0.474009  0.556321  0.322066  0.623276  0.495922  0.622766   \n",
              "4999  0.635945  0.470053  0.566383  0.317266  0.634208  0.491865  0.633670   \n",
              "\n",
              "             7         8         9  ...       175       176       177  \\\n",
              "0     0.507232  0.545840  0.528162  ...  0.506086  0.563004  0.522331   \n",
              "1     0.508246  0.535752  0.524877  ...  0.507017  0.552699  0.520293   \n",
              "2     0.510075  0.534930  0.528483  ...  0.508967  0.552772  0.523133   \n",
              "3     0.510170  0.535072  0.527727  ...  0.508982  0.552736  0.522589   \n",
              "4     0.510049  0.535094  0.528073  ...  0.508699  0.552740  0.522762   \n",
              "...        ...       ...       ...  ...       ...       ...       ...   \n",
              "4995  0.506120  0.588611  0.529921  ...  0.508719  0.613437  0.528026   \n",
              "4996  0.502558  0.598943  0.526762  ...  0.505377  0.624721  0.525037   \n",
              "4997  0.499377  0.610056  0.524280  ...  0.502405  0.636061  0.522673   \n",
              "4998  0.496169  0.620531  0.520647  ...  0.499248  0.646677  0.519183   \n",
              "4999  0.492347  0.631489  0.517498  ...  0.495527  0.658368  0.515976   \n",
              "\n",
              "           178       179       180       181       182       183  \\\n",
              "0     0.573575  0.504813  0.568157  0.508288  0.596934  0.357300   \n",
              "1     0.564831  0.506325  0.560077  0.509084  0.590878  0.357876   \n",
              "2     0.564357  0.507496  0.559269  0.510741  0.589321  0.357889   \n",
              "3     0.563863  0.507534  0.559131  0.510484  0.588851  0.357857   \n",
              "4     0.563882  0.507243  0.559186  0.510260  0.588814  0.358042   \n",
              "...        ...       ...       ...       ...       ...       ...   \n",
              "4995  0.631735  0.512042  0.624096  0.515017  0.675499  0.353467   \n",
              "4996  0.643343  0.508581  0.635489  0.511652  0.688083  0.348406   \n",
              "4997  0.654757  0.505929  0.646503  0.509062  0.700975  0.343798   \n",
              "4998  0.666003  0.502711  0.657887  0.505944  0.714119  0.339014   \n",
              "4999  0.677698  0.498920  0.669381  0.502176  0.726677  0.332985   \n",
              "\n",
              "                184  \n",
              "0           neutral  \n",
              "1           neutral  \n",
              "2           neutral  \n",
              "3           neutral  \n",
              "4           neutral  \n",
              "...             ...  \n",
              "4995  ojo_izquierdo  \n",
              "4996  ojo_izquierdo  \n",
              "4997  ojo_izquierdo  \n",
              "4998  ojo_izquierdo  \n",
              "4999  ojo_izquierdo  \n",
              "\n",
              "[5000 rows x 185 columns]"
            ],
            "text/html": [
              "\n",
              "  <div id=\"df-63dae8b7-445c-40bd-b74e-86873fd24527\">\n",
              "    <div class=\"colab-df-container\">\n",
              "      <div>\n",
              "<style scoped>\n",
              "    .dataframe tbody tr th:only-of-type {\n",
              "        vertical-align: middle;\n",
              "    }\n",
              "\n",
              "    .dataframe tbody tr th {\n",
              "        vertical-align: top;\n",
              "    }\n",
              "\n",
              "    .dataframe thead th {\n",
              "        text-align: right;\n",
              "    }\n",
              "</style>\n",
              "<table border=\"1\" class=\"dataframe\">\n",
              "  <thead>\n",
              "    <tr style=\"text-align: right;\">\n",
              "      <th></th>\n",
              "      <th>0</th>\n",
              "      <th>1</th>\n",
              "      <th>2</th>\n",
              "      <th>3</th>\n",
              "      <th>4</th>\n",
              "      <th>5</th>\n",
              "      <th>6</th>\n",
              "      <th>7</th>\n",
              "      <th>8</th>\n",
              "      <th>9</th>\n",
              "      <th>...</th>\n",
              "      <th>175</th>\n",
              "      <th>176</th>\n",
              "      <th>177</th>\n",
              "      <th>178</th>\n",
              "      <th>179</th>\n",
              "      <th>180</th>\n",
              "      <th>181</th>\n",
              "      <th>182</th>\n",
              "      <th>183</th>\n",
              "      <th>184</th>\n",
              "    </tr>\n",
              "  </thead>\n",
              "  <tbody>\n",
              "    <tr>\n",
              "      <th>0</th>\n",
              "      <td>0.544275</td>\n",
              "      <td>0.489766</td>\n",
              "      <td>0.478252</td>\n",
              "      <td>0.381462</td>\n",
              "      <td>0.544920</td>\n",
              "      <td>0.507024</td>\n",
              "      <td>0.544717</td>\n",
              "      <td>0.507232</td>\n",
              "      <td>0.545840</td>\n",
              "      <td>0.528162</td>\n",
              "      <td>...</td>\n",
              "      <td>0.506086</td>\n",
              "      <td>0.563004</td>\n",
              "      <td>0.522331</td>\n",
              "      <td>0.573575</td>\n",
              "      <td>0.504813</td>\n",
              "      <td>0.568157</td>\n",
              "      <td>0.508288</td>\n",
              "      <td>0.596934</td>\n",
              "      <td>0.357300</td>\n",
              "      <td>neutral</td>\n",
              "    </tr>\n",
              "    <tr>\n",
              "      <th>1</th>\n",
              "      <td>0.534347</td>\n",
              "      <td>0.493370</td>\n",
              "      <td>0.470491</td>\n",
              "      <td>0.378985</td>\n",
              "      <td>0.535169</td>\n",
              "      <td>0.508110</td>\n",
              "      <td>0.535000</td>\n",
              "      <td>0.508246</td>\n",
              "      <td>0.535752</td>\n",
              "      <td>0.524877</td>\n",
              "      <td>...</td>\n",
              "      <td>0.507017</td>\n",
              "      <td>0.552699</td>\n",
              "      <td>0.520293</td>\n",
              "      <td>0.564831</td>\n",
              "      <td>0.506325</td>\n",
              "      <td>0.560077</td>\n",
              "      <td>0.509084</td>\n",
              "      <td>0.590878</td>\n",
              "      <td>0.357876</td>\n",
              "      <td>neutral</td>\n",
              "    </tr>\n",
              "    <tr>\n",
              "      <th>2</th>\n",
              "      <td>0.533318</td>\n",
              "      <td>0.494122</td>\n",
              "      <td>0.467963</td>\n",
              "      <td>0.379832</td>\n",
              "      <td>0.534231</td>\n",
              "      <td>0.509847</td>\n",
              "      <td>0.533963</td>\n",
              "      <td>0.510075</td>\n",
              "      <td>0.534930</td>\n",
              "      <td>0.528483</td>\n",
              "      <td>...</td>\n",
              "      <td>0.508967</td>\n",
              "      <td>0.552772</td>\n",
              "      <td>0.523133</td>\n",
              "      <td>0.564357</td>\n",
              "      <td>0.507496</td>\n",
              "      <td>0.559269</td>\n",
              "      <td>0.510741</td>\n",
              "      <td>0.589321</td>\n",
              "      <td>0.357889</td>\n",
              "      <td>neutral</td>\n",
              "    </tr>\n",
              "    <tr>\n",
              "      <th>3</th>\n",
              "      <td>0.532908</td>\n",
              "      <td>0.495667</td>\n",
              "      <td>0.467501</td>\n",
              "      <td>0.380133</td>\n",
              "      <td>0.533887</td>\n",
              "      <td>0.510025</td>\n",
              "      <td>0.533832</td>\n",
              "      <td>0.510170</td>\n",
              "      <td>0.535072</td>\n",
              "      <td>0.527727</td>\n",
              "      <td>...</td>\n",
              "      <td>0.508982</td>\n",
              "      <td>0.552736</td>\n",
              "      <td>0.522589</td>\n",
              "      <td>0.563863</td>\n",
              "      <td>0.507534</td>\n",
              "      <td>0.559131</td>\n",
              "      <td>0.510484</td>\n",
              "      <td>0.588851</td>\n",
              "      <td>0.357857</td>\n",
              "      <td>neutral</td>\n",
              "    </tr>\n",
              "    <tr>\n",
              "      <th>4</th>\n",
              "      <td>0.532545</td>\n",
              "      <td>0.494852</td>\n",
              "      <td>0.468164</td>\n",
              "      <td>0.379853</td>\n",
              "      <td>0.533831</td>\n",
              "      <td>0.509942</td>\n",
              "      <td>0.533748</td>\n",
              "      <td>0.510049</td>\n",
              "      <td>0.535094</td>\n",
              "      <td>0.528073</td>\n",
              "      <td>...</td>\n",
              "      <td>0.508699</td>\n",
              "      <td>0.552740</td>\n",
              "      <td>0.522762</td>\n",
              "      <td>0.563882</td>\n",
              "      <td>0.507243</td>\n",
              "      <td>0.559186</td>\n",
              "      <td>0.510260</td>\n",
              "      <td>0.588814</td>\n",
              "      <td>0.358042</td>\n",
              "      <td>neutral</td>\n",
              "    </tr>\n",
              "    <tr>\n",
              "      <th>...</th>\n",
              "      <td>...</td>\n",
              "      <td>...</td>\n",
              "      <td>...</td>\n",
              "      <td>...</td>\n",
              "      <td>...</td>\n",
              "      <td>...</td>\n",
              "      <td>...</td>\n",
              "      <td>...</td>\n",
              "      <td>...</td>\n",
              "      <td>...</td>\n",
              "      <td>...</td>\n",
              "      <td>...</td>\n",
              "      <td>...</td>\n",
              "      <td>...</td>\n",
              "      <td>...</td>\n",
              "      <td>...</td>\n",
              "      <td>...</td>\n",
              "      <td>...</td>\n",
              "      <td>...</td>\n",
              "      <td>...</td>\n",
              "      <td>...</td>\n",
              "    </tr>\n",
              "    <tr>\n",
              "      <th>4995</th>\n",
              "      <td>0.592283</td>\n",
              "      <td>0.485065</td>\n",
              "      <td>0.523655</td>\n",
              "      <td>0.339939</td>\n",
              "      <td>0.590946</td>\n",
              "      <td>0.505730</td>\n",
              "      <td>0.590502</td>\n",
              "      <td>0.506120</td>\n",
              "      <td>0.588611</td>\n",
              "      <td>0.529921</td>\n",
              "      <td>...</td>\n",
              "      <td>0.508719</td>\n",
              "      <td>0.613437</td>\n",
              "      <td>0.528026</td>\n",
              "      <td>0.631735</td>\n",
              "      <td>0.512042</td>\n",
              "      <td>0.624096</td>\n",
              "      <td>0.515017</td>\n",
              "      <td>0.675499</td>\n",
              "      <td>0.353467</td>\n",
              "      <td>ojo_izquierdo</td>\n",
              "    </tr>\n",
              "    <tr>\n",
              "      <th>4996</th>\n",
              "      <td>0.602635</td>\n",
              "      <td>0.480942</td>\n",
              "      <td>0.535009</td>\n",
              "      <td>0.333243</td>\n",
              "      <td>0.601282</td>\n",
              "      <td>0.502181</td>\n",
              "      <td>0.600842</td>\n",
              "      <td>0.502558</td>\n",
              "      <td>0.598943</td>\n",
              "      <td>0.526762</td>\n",
              "      <td>...</td>\n",
              "      <td>0.505377</td>\n",
              "      <td>0.624721</td>\n",
              "      <td>0.525037</td>\n",
              "      <td>0.643343</td>\n",
              "      <td>0.508581</td>\n",
              "      <td>0.635489</td>\n",
              "      <td>0.511652</td>\n",
              "      <td>0.688083</td>\n",
              "      <td>0.348406</td>\n",
              "      <td>ojo_izquierdo</td>\n",
              "    </tr>\n",
              "    <tr>\n",
              "      <th>4997</th>\n",
              "      <td>0.614582</td>\n",
              "      <td>0.477595</td>\n",
              "      <td>0.545290</td>\n",
              "      <td>0.328027</td>\n",
              "      <td>0.612743</td>\n",
              "      <td>0.499077</td>\n",
              "      <td>0.612232</td>\n",
              "      <td>0.499377</td>\n",
              "      <td>0.610056</td>\n",
              "      <td>0.524280</td>\n",
              "      <td>...</td>\n",
              "      <td>0.502405</td>\n",
              "      <td>0.636061</td>\n",
              "      <td>0.522673</td>\n",
              "      <td>0.654757</td>\n",
              "      <td>0.505929</td>\n",
              "      <td>0.646503</td>\n",
              "      <td>0.509062</td>\n",
              "      <td>0.700975</td>\n",
              "      <td>0.343798</td>\n",
              "      <td>ojo_izquierdo</td>\n",
              "    </tr>\n",
              "    <tr>\n",
              "      <th>4998</th>\n",
              "      <td>0.624917</td>\n",
              "      <td>0.474009</td>\n",
              "      <td>0.556321</td>\n",
              "      <td>0.322066</td>\n",
              "      <td>0.623276</td>\n",
              "      <td>0.495922</td>\n",
              "      <td>0.622766</td>\n",
              "      <td>0.496169</td>\n",
              "      <td>0.620531</td>\n",
              "      <td>0.520647</td>\n",
              "      <td>...</td>\n",
              "      <td>0.499248</td>\n",
              "      <td>0.646677</td>\n",
              "      <td>0.519183</td>\n",
              "      <td>0.666003</td>\n",
              "      <td>0.502711</td>\n",
              "      <td>0.657887</td>\n",
              "      <td>0.505944</td>\n",
              "      <td>0.714119</td>\n",
              "      <td>0.339014</td>\n",
              "      <td>ojo_izquierdo</td>\n",
              "    </tr>\n",
              "    <tr>\n",
              "      <th>4999</th>\n",
              "      <td>0.635945</td>\n",
              "      <td>0.470053</td>\n",
              "      <td>0.566383</td>\n",
              "      <td>0.317266</td>\n",
              "      <td>0.634208</td>\n",
              "      <td>0.491865</td>\n",
              "      <td>0.633670</td>\n",
              "      <td>0.492347</td>\n",
              "      <td>0.631489</td>\n",
              "      <td>0.517498</td>\n",
              "      <td>...</td>\n",
              "      <td>0.495527</td>\n",
              "      <td>0.658368</td>\n",
              "      <td>0.515976</td>\n",
              "      <td>0.677698</td>\n",
              "      <td>0.498920</td>\n",
              "      <td>0.669381</td>\n",
              "      <td>0.502176</td>\n",
              "      <td>0.726677</td>\n",
              "      <td>0.332985</td>\n",
              "      <td>ojo_izquierdo</td>\n",
              "    </tr>\n",
              "  </tbody>\n",
              "</table>\n",
              "<p>5000 rows × 185 columns</p>\n",
              "</div>\n",
              "      <button class=\"colab-df-convert\" onclick=\"convertToInteractive('df-63dae8b7-445c-40bd-b74e-86873fd24527')\"\n",
              "              title=\"Convert this dataframe to an interactive table.\"\n",
              "              style=\"display:none;\">\n",
              "        \n",
              "  <svg xmlns=\"http://www.w3.org/2000/svg\" height=\"24px\"viewBox=\"0 0 24 24\"\n",
              "       width=\"24px\">\n",
              "    <path d=\"M0 0h24v24H0V0z\" fill=\"none\"/>\n",
              "    <path d=\"M18.56 5.44l.94 2.06.94-2.06 2.06-.94-2.06-.94-.94-2.06-.94 2.06-2.06.94zm-11 1L8.5 8.5l.94-2.06 2.06-.94-2.06-.94L8.5 2.5l-.94 2.06-2.06.94zm10 10l.94 2.06.94-2.06 2.06-.94-2.06-.94-.94-2.06-.94 2.06-2.06.94z\"/><path d=\"M17.41 7.96l-1.37-1.37c-.4-.4-.92-.59-1.43-.59-.52 0-1.04.2-1.43.59L10.3 9.45l-7.72 7.72c-.78.78-.78 2.05 0 2.83L4 21.41c.39.39.9.59 1.41.59.51 0 1.02-.2 1.41-.59l7.78-7.78 2.81-2.81c.8-.78.8-2.07 0-2.86zM5.41 20L4 18.59l7.72-7.72 1.47 1.35L5.41 20z\"/>\n",
              "  </svg>\n",
              "      </button>\n",
              "      \n",
              "  <style>\n",
              "    .colab-df-container {\n",
              "      display:flex;\n",
              "      flex-wrap:wrap;\n",
              "      gap: 12px;\n",
              "    }\n",
              "\n",
              "    .colab-df-convert {\n",
              "      background-color: #E8F0FE;\n",
              "      border: none;\n",
              "      border-radius: 50%;\n",
              "      cursor: pointer;\n",
              "      display: none;\n",
              "      fill: #1967D2;\n",
              "      height: 32px;\n",
              "      padding: 0 0 0 0;\n",
              "      width: 32px;\n",
              "    }\n",
              "\n",
              "    .colab-df-convert:hover {\n",
              "      background-color: #E2EBFA;\n",
              "      box-shadow: 0px 1px 2px rgba(60, 64, 67, 0.3), 0px 1px 3px 1px rgba(60, 64, 67, 0.15);\n",
              "      fill: #174EA6;\n",
              "    }\n",
              "\n",
              "    [theme=dark] .colab-df-convert {\n",
              "      background-color: #3B4455;\n",
              "      fill: #D2E3FC;\n",
              "    }\n",
              "\n",
              "    [theme=dark] .colab-df-convert:hover {\n",
              "      background-color: #434B5C;\n",
              "      box-shadow: 0px 1px 3px 1px rgba(0, 0, 0, 0.15);\n",
              "      filter: drop-shadow(0px 1px 2px rgba(0, 0, 0, 0.3));\n",
              "      fill: #FFFFFF;\n",
              "    }\n",
              "  </style>\n",
              "\n",
              "      <script>\n",
              "        const buttonEl =\n",
              "          document.querySelector('#df-63dae8b7-445c-40bd-b74e-86873fd24527 button.colab-df-convert');\n",
              "        buttonEl.style.display =\n",
              "          google.colab.kernel.accessAllowed ? 'block' : 'none';\n",
              "\n",
              "        async function convertToInteractive(key) {\n",
              "          const element = document.querySelector('#df-63dae8b7-445c-40bd-b74e-86873fd24527');\n",
              "          const dataTable =\n",
              "            await google.colab.kernel.invokeFunction('convertToInteractive',\n",
              "                                                     [key], {});\n",
              "          if (!dataTable) return;\n",
              "\n",
              "          const docLinkHtml = 'Like what you see? Visit the ' +\n",
              "            '<a target=\"_blank\" href=https://colab.research.google.com/notebooks/data_table.ipynb>data table notebook</a>'\n",
              "            + ' to learn more about interactive tables.';\n",
              "          element.innerHTML = '';\n",
              "          dataTable['output_type'] = 'display_data';\n",
              "          await google.colab.output.renderOutput(dataTable, element);\n",
              "          const docLink = document.createElement('div');\n",
              "          docLink.innerHTML = docLinkHtml;\n",
              "          element.appendChild(docLink);\n",
              "        }\n",
              "      </script>\n",
              "    </div>\n",
              "  </div>\n",
              "  "
            ]
          },
          "metadata": {},
          "execution_count": 5
        }
      ],
      "source": [
        "df = pd.read_csv(\"/content/drive/MyDrive/10mo Semestre/ai_chari/dataset_01.csv\")\n",
        "df"
      ]
    },
    {
      "cell_type": "code",
      "execution_count": 6,
      "metadata": {
        "id": "Co8OyDLZ237S"
      },
      "outputs": [],
      "source": [
        "from sklearn import preprocessing\n",
        "le = preprocessing.LabelEncoder()\n",
        "le.fit(df['184'])\n",
        "df['184'] = le.transform(df['184'])"
      ]
    },
    {
      "cell_type": "code",
      "source": [
        "##Id for every label\n",
        "print(le.inverse_transform([0,1,2,3,4]))"
      ],
      "metadata": {
        "colab": {
          "base_uri": "https://localhost:8080/"
        },
        "id": "Inqgr7tP_9OP",
        "outputId": "9c784c65-77d5-4b7d-a761-d7ea35066a97"
      },
      "execution_count": 22,
      "outputs": [
        {
          "output_type": "stream",
          "name": "stdout",
          "text": [
            "['boca_abierta' 'neutral' 'ojo_derecho' 'ojo_izquierdo' 'sonrisa']\n"
          ]
        }
      ]
    },
    {
      "cell_type": "code",
      "execution_count": 7,
      "metadata": {
        "colab": {
          "base_uri": "https://localhost:8080/",
          "height": 488
        },
        "id": "tZ6tje2g3ZCm",
        "outputId": "2e9f9052-c4e6-4a53-901d-a61c17c4adfa"
      },
      "outputs": [
        {
          "output_type": "execute_result",
          "data": {
            "text/plain": [
              "             0         1         2         3         4         5         6  \\\n",
              "0     0.544275  0.489766  0.478252  0.381462  0.544920  0.507024  0.544717   \n",
              "1     0.534347  0.493370  0.470491  0.378985  0.535169  0.508110  0.535000   \n",
              "2     0.533318  0.494122  0.467963  0.379832  0.534231  0.509847  0.533963   \n",
              "3     0.532908  0.495667  0.467501  0.380133  0.533887  0.510025  0.533832   \n",
              "4     0.532545  0.494852  0.468164  0.379853  0.533831  0.509942  0.533748   \n",
              "...        ...       ...       ...       ...       ...       ...       ...   \n",
              "4995  0.592283  0.485065  0.523655  0.339939  0.590946  0.505730  0.590502   \n",
              "4996  0.602635  0.480942  0.535009  0.333243  0.601282  0.502181  0.600842   \n",
              "4997  0.614582  0.477595  0.545290  0.328027  0.612743  0.499077  0.612232   \n",
              "4998  0.624917  0.474009  0.556321  0.322066  0.623276  0.495922  0.622766   \n",
              "4999  0.635945  0.470053  0.566383  0.317266  0.634208  0.491865  0.633670   \n",
              "\n",
              "             7         8         9  ...       175       176       177  \\\n",
              "0     0.507232  0.545840  0.528162  ...  0.506086  0.563004  0.522331   \n",
              "1     0.508246  0.535752  0.524877  ...  0.507017  0.552699  0.520293   \n",
              "2     0.510075  0.534930  0.528483  ...  0.508967  0.552772  0.523133   \n",
              "3     0.510170  0.535072  0.527727  ...  0.508982  0.552736  0.522589   \n",
              "4     0.510049  0.535094  0.528073  ...  0.508699  0.552740  0.522762   \n",
              "...        ...       ...       ...  ...       ...       ...       ...   \n",
              "4995  0.506120  0.588611  0.529921  ...  0.508719  0.613437  0.528026   \n",
              "4996  0.502558  0.598943  0.526762  ...  0.505377  0.624721  0.525037   \n",
              "4997  0.499377  0.610056  0.524280  ...  0.502405  0.636061  0.522673   \n",
              "4998  0.496169  0.620531  0.520647  ...  0.499248  0.646677  0.519183   \n",
              "4999  0.492347  0.631489  0.517498  ...  0.495527  0.658368  0.515976   \n",
              "\n",
              "           178       179       180       181       182       183  184  \n",
              "0     0.573575  0.504813  0.568157  0.508288  0.596934  0.357300    1  \n",
              "1     0.564831  0.506325  0.560077  0.509084  0.590878  0.357876    1  \n",
              "2     0.564357  0.507496  0.559269  0.510741  0.589321  0.357889    1  \n",
              "3     0.563863  0.507534  0.559131  0.510484  0.588851  0.357857    1  \n",
              "4     0.563882  0.507243  0.559186  0.510260  0.588814  0.358042    1  \n",
              "...        ...       ...       ...       ...       ...       ...  ...  \n",
              "4995  0.631735  0.512042  0.624096  0.515017  0.675499  0.353467    3  \n",
              "4996  0.643343  0.508581  0.635489  0.511652  0.688083  0.348406    3  \n",
              "4997  0.654757  0.505929  0.646503  0.509062  0.700975  0.343798    3  \n",
              "4998  0.666003  0.502711  0.657887  0.505944  0.714119  0.339014    3  \n",
              "4999  0.677698  0.498920  0.669381  0.502176  0.726677  0.332985    3  \n",
              "\n",
              "[5000 rows x 185 columns]"
            ],
            "text/html": [
              "\n",
              "  <div id=\"df-db451b1b-39bf-45cc-a51f-b7a43c2bf03b\">\n",
              "    <div class=\"colab-df-container\">\n",
              "      <div>\n",
              "<style scoped>\n",
              "    .dataframe tbody tr th:only-of-type {\n",
              "        vertical-align: middle;\n",
              "    }\n",
              "\n",
              "    .dataframe tbody tr th {\n",
              "        vertical-align: top;\n",
              "    }\n",
              "\n",
              "    .dataframe thead th {\n",
              "        text-align: right;\n",
              "    }\n",
              "</style>\n",
              "<table border=\"1\" class=\"dataframe\">\n",
              "  <thead>\n",
              "    <tr style=\"text-align: right;\">\n",
              "      <th></th>\n",
              "      <th>0</th>\n",
              "      <th>1</th>\n",
              "      <th>2</th>\n",
              "      <th>3</th>\n",
              "      <th>4</th>\n",
              "      <th>5</th>\n",
              "      <th>6</th>\n",
              "      <th>7</th>\n",
              "      <th>8</th>\n",
              "      <th>9</th>\n",
              "      <th>...</th>\n",
              "      <th>175</th>\n",
              "      <th>176</th>\n",
              "      <th>177</th>\n",
              "      <th>178</th>\n",
              "      <th>179</th>\n",
              "      <th>180</th>\n",
              "      <th>181</th>\n",
              "      <th>182</th>\n",
              "      <th>183</th>\n",
              "      <th>184</th>\n",
              "    </tr>\n",
              "  </thead>\n",
              "  <tbody>\n",
              "    <tr>\n",
              "      <th>0</th>\n",
              "      <td>0.544275</td>\n",
              "      <td>0.489766</td>\n",
              "      <td>0.478252</td>\n",
              "      <td>0.381462</td>\n",
              "      <td>0.544920</td>\n",
              "      <td>0.507024</td>\n",
              "      <td>0.544717</td>\n",
              "      <td>0.507232</td>\n",
              "      <td>0.545840</td>\n",
              "      <td>0.528162</td>\n",
              "      <td>...</td>\n",
              "      <td>0.506086</td>\n",
              "      <td>0.563004</td>\n",
              "      <td>0.522331</td>\n",
              "      <td>0.573575</td>\n",
              "      <td>0.504813</td>\n",
              "      <td>0.568157</td>\n",
              "      <td>0.508288</td>\n",
              "      <td>0.596934</td>\n",
              "      <td>0.357300</td>\n",
              "      <td>1</td>\n",
              "    </tr>\n",
              "    <tr>\n",
              "      <th>1</th>\n",
              "      <td>0.534347</td>\n",
              "      <td>0.493370</td>\n",
              "      <td>0.470491</td>\n",
              "      <td>0.378985</td>\n",
              "      <td>0.535169</td>\n",
              "      <td>0.508110</td>\n",
              "      <td>0.535000</td>\n",
              "      <td>0.508246</td>\n",
              "      <td>0.535752</td>\n",
              "      <td>0.524877</td>\n",
              "      <td>...</td>\n",
              "      <td>0.507017</td>\n",
              "      <td>0.552699</td>\n",
              "      <td>0.520293</td>\n",
              "      <td>0.564831</td>\n",
              "      <td>0.506325</td>\n",
              "      <td>0.560077</td>\n",
              "      <td>0.509084</td>\n",
              "      <td>0.590878</td>\n",
              "      <td>0.357876</td>\n",
              "      <td>1</td>\n",
              "    </tr>\n",
              "    <tr>\n",
              "      <th>2</th>\n",
              "      <td>0.533318</td>\n",
              "      <td>0.494122</td>\n",
              "      <td>0.467963</td>\n",
              "      <td>0.379832</td>\n",
              "      <td>0.534231</td>\n",
              "      <td>0.509847</td>\n",
              "      <td>0.533963</td>\n",
              "      <td>0.510075</td>\n",
              "      <td>0.534930</td>\n",
              "      <td>0.528483</td>\n",
              "      <td>...</td>\n",
              "      <td>0.508967</td>\n",
              "      <td>0.552772</td>\n",
              "      <td>0.523133</td>\n",
              "      <td>0.564357</td>\n",
              "      <td>0.507496</td>\n",
              "      <td>0.559269</td>\n",
              "      <td>0.510741</td>\n",
              "      <td>0.589321</td>\n",
              "      <td>0.357889</td>\n",
              "      <td>1</td>\n",
              "    </tr>\n",
              "    <tr>\n",
              "      <th>3</th>\n",
              "      <td>0.532908</td>\n",
              "      <td>0.495667</td>\n",
              "      <td>0.467501</td>\n",
              "      <td>0.380133</td>\n",
              "      <td>0.533887</td>\n",
              "      <td>0.510025</td>\n",
              "      <td>0.533832</td>\n",
              "      <td>0.510170</td>\n",
              "      <td>0.535072</td>\n",
              "      <td>0.527727</td>\n",
              "      <td>...</td>\n",
              "      <td>0.508982</td>\n",
              "      <td>0.552736</td>\n",
              "      <td>0.522589</td>\n",
              "      <td>0.563863</td>\n",
              "      <td>0.507534</td>\n",
              "      <td>0.559131</td>\n",
              "      <td>0.510484</td>\n",
              "      <td>0.588851</td>\n",
              "      <td>0.357857</td>\n",
              "      <td>1</td>\n",
              "    </tr>\n",
              "    <tr>\n",
              "      <th>4</th>\n",
              "      <td>0.532545</td>\n",
              "      <td>0.494852</td>\n",
              "      <td>0.468164</td>\n",
              "      <td>0.379853</td>\n",
              "      <td>0.533831</td>\n",
              "      <td>0.509942</td>\n",
              "      <td>0.533748</td>\n",
              "      <td>0.510049</td>\n",
              "      <td>0.535094</td>\n",
              "      <td>0.528073</td>\n",
              "      <td>...</td>\n",
              "      <td>0.508699</td>\n",
              "      <td>0.552740</td>\n",
              "      <td>0.522762</td>\n",
              "      <td>0.563882</td>\n",
              "      <td>0.507243</td>\n",
              "      <td>0.559186</td>\n",
              "      <td>0.510260</td>\n",
              "      <td>0.588814</td>\n",
              "      <td>0.358042</td>\n",
              "      <td>1</td>\n",
              "    </tr>\n",
              "    <tr>\n",
              "      <th>...</th>\n",
              "      <td>...</td>\n",
              "      <td>...</td>\n",
              "      <td>...</td>\n",
              "      <td>...</td>\n",
              "      <td>...</td>\n",
              "      <td>...</td>\n",
              "      <td>...</td>\n",
              "      <td>...</td>\n",
              "      <td>...</td>\n",
              "      <td>...</td>\n",
              "      <td>...</td>\n",
              "      <td>...</td>\n",
              "      <td>...</td>\n",
              "      <td>...</td>\n",
              "      <td>...</td>\n",
              "      <td>...</td>\n",
              "      <td>...</td>\n",
              "      <td>...</td>\n",
              "      <td>...</td>\n",
              "      <td>...</td>\n",
              "      <td>...</td>\n",
              "    </tr>\n",
              "    <tr>\n",
              "      <th>4995</th>\n",
              "      <td>0.592283</td>\n",
              "      <td>0.485065</td>\n",
              "      <td>0.523655</td>\n",
              "      <td>0.339939</td>\n",
              "      <td>0.590946</td>\n",
              "      <td>0.505730</td>\n",
              "      <td>0.590502</td>\n",
              "      <td>0.506120</td>\n",
              "      <td>0.588611</td>\n",
              "      <td>0.529921</td>\n",
              "      <td>...</td>\n",
              "      <td>0.508719</td>\n",
              "      <td>0.613437</td>\n",
              "      <td>0.528026</td>\n",
              "      <td>0.631735</td>\n",
              "      <td>0.512042</td>\n",
              "      <td>0.624096</td>\n",
              "      <td>0.515017</td>\n",
              "      <td>0.675499</td>\n",
              "      <td>0.353467</td>\n",
              "      <td>3</td>\n",
              "    </tr>\n",
              "    <tr>\n",
              "      <th>4996</th>\n",
              "      <td>0.602635</td>\n",
              "      <td>0.480942</td>\n",
              "      <td>0.535009</td>\n",
              "      <td>0.333243</td>\n",
              "      <td>0.601282</td>\n",
              "      <td>0.502181</td>\n",
              "      <td>0.600842</td>\n",
              "      <td>0.502558</td>\n",
              "      <td>0.598943</td>\n",
              "      <td>0.526762</td>\n",
              "      <td>...</td>\n",
              "      <td>0.505377</td>\n",
              "      <td>0.624721</td>\n",
              "      <td>0.525037</td>\n",
              "      <td>0.643343</td>\n",
              "      <td>0.508581</td>\n",
              "      <td>0.635489</td>\n",
              "      <td>0.511652</td>\n",
              "      <td>0.688083</td>\n",
              "      <td>0.348406</td>\n",
              "      <td>3</td>\n",
              "    </tr>\n",
              "    <tr>\n",
              "      <th>4997</th>\n",
              "      <td>0.614582</td>\n",
              "      <td>0.477595</td>\n",
              "      <td>0.545290</td>\n",
              "      <td>0.328027</td>\n",
              "      <td>0.612743</td>\n",
              "      <td>0.499077</td>\n",
              "      <td>0.612232</td>\n",
              "      <td>0.499377</td>\n",
              "      <td>0.610056</td>\n",
              "      <td>0.524280</td>\n",
              "      <td>...</td>\n",
              "      <td>0.502405</td>\n",
              "      <td>0.636061</td>\n",
              "      <td>0.522673</td>\n",
              "      <td>0.654757</td>\n",
              "      <td>0.505929</td>\n",
              "      <td>0.646503</td>\n",
              "      <td>0.509062</td>\n",
              "      <td>0.700975</td>\n",
              "      <td>0.343798</td>\n",
              "      <td>3</td>\n",
              "    </tr>\n",
              "    <tr>\n",
              "      <th>4998</th>\n",
              "      <td>0.624917</td>\n",
              "      <td>0.474009</td>\n",
              "      <td>0.556321</td>\n",
              "      <td>0.322066</td>\n",
              "      <td>0.623276</td>\n",
              "      <td>0.495922</td>\n",
              "      <td>0.622766</td>\n",
              "      <td>0.496169</td>\n",
              "      <td>0.620531</td>\n",
              "      <td>0.520647</td>\n",
              "      <td>...</td>\n",
              "      <td>0.499248</td>\n",
              "      <td>0.646677</td>\n",
              "      <td>0.519183</td>\n",
              "      <td>0.666003</td>\n",
              "      <td>0.502711</td>\n",
              "      <td>0.657887</td>\n",
              "      <td>0.505944</td>\n",
              "      <td>0.714119</td>\n",
              "      <td>0.339014</td>\n",
              "      <td>3</td>\n",
              "    </tr>\n",
              "    <tr>\n",
              "      <th>4999</th>\n",
              "      <td>0.635945</td>\n",
              "      <td>0.470053</td>\n",
              "      <td>0.566383</td>\n",
              "      <td>0.317266</td>\n",
              "      <td>0.634208</td>\n",
              "      <td>0.491865</td>\n",
              "      <td>0.633670</td>\n",
              "      <td>0.492347</td>\n",
              "      <td>0.631489</td>\n",
              "      <td>0.517498</td>\n",
              "      <td>...</td>\n",
              "      <td>0.495527</td>\n",
              "      <td>0.658368</td>\n",
              "      <td>0.515976</td>\n",
              "      <td>0.677698</td>\n",
              "      <td>0.498920</td>\n",
              "      <td>0.669381</td>\n",
              "      <td>0.502176</td>\n",
              "      <td>0.726677</td>\n",
              "      <td>0.332985</td>\n",
              "      <td>3</td>\n",
              "    </tr>\n",
              "  </tbody>\n",
              "</table>\n",
              "<p>5000 rows × 185 columns</p>\n",
              "</div>\n",
              "      <button class=\"colab-df-convert\" onclick=\"convertToInteractive('df-db451b1b-39bf-45cc-a51f-b7a43c2bf03b')\"\n",
              "              title=\"Convert this dataframe to an interactive table.\"\n",
              "              style=\"display:none;\">\n",
              "        \n",
              "  <svg xmlns=\"http://www.w3.org/2000/svg\" height=\"24px\"viewBox=\"0 0 24 24\"\n",
              "       width=\"24px\">\n",
              "    <path d=\"M0 0h24v24H0V0z\" fill=\"none\"/>\n",
              "    <path d=\"M18.56 5.44l.94 2.06.94-2.06 2.06-.94-2.06-.94-.94-2.06-.94 2.06-2.06.94zm-11 1L8.5 8.5l.94-2.06 2.06-.94-2.06-.94L8.5 2.5l-.94 2.06-2.06.94zm10 10l.94 2.06.94-2.06 2.06-.94-2.06-.94-.94-2.06-.94 2.06-2.06.94z\"/><path d=\"M17.41 7.96l-1.37-1.37c-.4-.4-.92-.59-1.43-.59-.52 0-1.04.2-1.43.59L10.3 9.45l-7.72 7.72c-.78.78-.78 2.05 0 2.83L4 21.41c.39.39.9.59 1.41.59.51 0 1.02-.2 1.41-.59l7.78-7.78 2.81-2.81c.8-.78.8-2.07 0-2.86zM5.41 20L4 18.59l7.72-7.72 1.47 1.35L5.41 20z\"/>\n",
              "  </svg>\n",
              "      </button>\n",
              "      \n",
              "  <style>\n",
              "    .colab-df-container {\n",
              "      display:flex;\n",
              "      flex-wrap:wrap;\n",
              "      gap: 12px;\n",
              "    }\n",
              "\n",
              "    .colab-df-convert {\n",
              "      background-color: #E8F0FE;\n",
              "      border: none;\n",
              "      border-radius: 50%;\n",
              "      cursor: pointer;\n",
              "      display: none;\n",
              "      fill: #1967D2;\n",
              "      height: 32px;\n",
              "      padding: 0 0 0 0;\n",
              "      width: 32px;\n",
              "    }\n",
              "\n",
              "    .colab-df-convert:hover {\n",
              "      background-color: #E2EBFA;\n",
              "      box-shadow: 0px 1px 2px rgba(60, 64, 67, 0.3), 0px 1px 3px 1px rgba(60, 64, 67, 0.15);\n",
              "      fill: #174EA6;\n",
              "    }\n",
              "\n",
              "    [theme=dark] .colab-df-convert {\n",
              "      background-color: #3B4455;\n",
              "      fill: #D2E3FC;\n",
              "    }\n",
              "\n",
              "    [theme=dark] .colab-df-convert:hover {\n",
              "      background-color: #434B5C;\n",
              "      box-shadow: 0px 1px 3px 1px rgba(0, 0, 0, 0.15);\n",
              "      filter: drop-shadow(0px 1px 2px rgba(0, 0, 0, 0.3));\n",
              "      fill: #FFFFFF;\n",
              "    }\n",
              "  </style>\n",
              "\n",
              "      <script>\n",
              "        const buttonEl =\n",
              "          document.querySelector('#df-db451b1b-39bf-45cc-a51f-b7a43c2bf03b button.colab-df-convert');\n",
              "        buttonEl.style.display =\n",
              "          google.colab.kernel.accessAllowed ? 'block' : 'none';\n",
              "\n",
              "        async function convertToInteractive(key) {\n",
              "          const element = document.querySelector('#df-db451b1b-39bf-45cc-a51f-b7a43c2bf03b');\n",
              "          const dataTable =\n",
              "            await google.colab.kernel.invokeFunction('convertToInteractive',\n",
              "                                                     [key], {});\n",
              "          if (!dataTable) return;\n",
              "\n",
              "          const docLinkHtml = 'Like what you see? Visit the ' +\n",
              "            '<a target=\"_blank\" href=https://colab.research.google.com/notebooks/data_table.ipynb>data table notebook</a>'\n",
              "            + ' to learn more about interactive tables.';\n",
              "          element.innerHTML = '';\n",
              "          dataTable['output_type'] = 'display_data';\n",
              "          await google.colab.output.renderOutput(dataTable, element);\n",
              "          const docLink = document.createElement('div');\n",
              "          docLink.innerHTML = docLinkHtml;\n",
              "          element.appendChild(docLink);\n",
              "        }\n",
              "      </script>\n",
              "    </div>\n",
              "  </div>\n",
              "  "
            ]
          },
          "metadata": {},
          "execution_count": 7
        }
      ],
      "source": [
        "df"
      ]
    },
    {
      "cell_type": "code",
      "execution_count": 8,
      "metadata": {
        "colab": {
          "base_uri": "https://localhost:8080/",
          "height": 488
        },
        "id": "WSnZafwzw66z",
        "outputId": "7c22e992-012b-4a06-93fd-79f510d4044e"
      },
      "outputs": [
        {
          "output_type": "execute_result",
          "data": {
            "text/plain": [
              "             0         1         2         3         4         5         6  \\\n",
              "1968  0.715742  0.527863  0.648140  0.409642  0.711280  0.548542  0.704874   \n",
              "1758  0.514785  0.571718  0.441368  0.444177  0.514613  0.591593  0.518217   \n",
              "3165  0.706736  0.616934  0.643150  0.470867  0.704517  0.624989  0.701094   \n",
              "3163  0.691214  0.615424  0.627615  0.468479  0.689398  0.623734  0.686267   \n",
              "4394  0.777766  0.329424  0.669197  0.184112  0.773512  0.361206  0.770961   \n",
              "...        ...       ...       ...       ...       ...       ...       ...   \n",
              "2841  0.787319  0.677533  0.714444  0.531696  0.785011  0.692270  0.784765   \n",
              "1336  0.504179  0.649044  0.429482  0.487894  0.502990  0.668925  0.502939   \n",
              "2645  0.517571  0.597315  0.442575  0.477837  0.518090  0.613639  0.518085   \n",
              "3030  0.495497  0.537190  0.414089  0.416204  0.495957  0.546793  0.497330   \n",
              "2298  0.502941  0.665695  0.431499  0.506915  0.503966  0.681252  0.504209   \n",
              "\n",
              "             7         8         9  ...       175       176       177  \\\n",
              "1968  0.604364  0.701636  0.628758  ...  0.603479  0.725469  0.622336   \n",
              "1758  0.667710  0.518665  0.684366  ...  0.657989  0.544631  0.669527   \n",
              "3165  0.649145  0.698021  0.672595  ...  0.645696  0.727070  0.664471   \n",
              "3163  0.648551  0.683529  0.672754  ...  0.644625  0.713159  0.663968   \n",
              "4394  0.433127  0.769539  0.470253  ...  0.429716  0.803124  0.458287   \n",
              "...        ...       ...       ...  ...       ...       ...       ...   \n",
              "2841  0.692521  0.783325  0.713970  ...  0.694165  0.802882  0.711995   \n",
              "1336  0.668926  0.501771  0.693578  ...  0.670716  0.527188  0.690871   \n",
              "2645  0.613599  0.519150  0.634844  ...  0.612950  0.539333  0.629946   \n",
              "3030  0.571614  0.498655  0.595392  ...  0.561607  0.529949  0.579468   \n",
              "2298  0.698106  0.504381  0.726741  ...  0.693766  0.533626  0.716062   \n",
              "\n",
              "           178       179       180       181       182       183  184  \n",
              "1968  0.738816  0.577608  0.728683  0.577603  0.779321  0.436186    0  \n",
              "1758  0.550261  0.617380  0.542253  0.620188  0.584541  0.436058    0  \n",
              "3165  0.747990  0.621902  0.741872  0.625363  0.787564  0.488455    4  \n",
              "3163  0.734307  0.619093  0.728261  0.622823  0.770812  0.486465    4  \n",
              "4394  0.816632  0.390822  0.800570  0.394331  0.873489  0.182667    0  \n",
              "...        ...       ...       ...       ...       ...       ...  ...  \n",
              "2841  0.815392  0.695633  0.808746  0.697748  0.856276  0.542701    1  \n",
              "1336  0.544524  0.672484  0.536886  0.675540  0.589697  0.497022    2  \n",
              "2645  0.551900  0.612876  0.546124  0.616188  0.575829  0.462732    1  \n",
              "3030  0.546193  0.535582  0.540172  0.539535  0.559677  0.393457    4  \n",
              "2298  0.549745  0.683092  0.541995  0.685850  0.591311  0.506276    3  \n",
              "\n",
              "[5000 rows x 185 columns]"
            ],
            "text/html": [
              "\n",
              "  <div id=\"df-6d38fabb-b3dc-428c-96f1-2f0c3b818d74\">\n",
              "    <div class=\"colab-df-container\">\n",
              "      <div>\n",
              "<style scoped>\n",
              "    .dataframe tbody tr th:only-of-type {\n",
              "        vertical-align: middle;\n",
              "    }\n",
              "\n",
              "    .dataframe tbody tr th {\n",
              "        vertical-align: top;\n",
              "    }\n",
              "\n",
              "    .dataframe thead th {\n",
              "        text-align: right;\n",
              "    }\n",
              "</style>\n",
              "<table border=\"1\" class=\"dataframe\">\n",
              "  <thead>\n",
              "    <tr style=\"text-align: right;\">\n",
              "      <th></th>\n",
              "      <th>0</th>\n",
              "      <th>1</th>\n",
              "      <th>2</th>\n",
              "      <th>3</th>\n",
              "      <th>4</th>\n",
              "      <th>5</th>\n",
              "      <th>6</th>\n",
              "      <th>7</th>\n",
              "      <th>8</th>\n",
              "      <th>9</th>\n",
              "      <th>...</th>\n",
              "      <th>175</th>\n",
              "      <th>176</th>\n",
              "      <th>177</th>\n",
              "      <th>178</th>\n",
              "      <th>179</th>\n",
              "      <th>180</th>\n",
              "      <th>181</th>\n",
              "      <th>182</th>\n",
              "      <th>183</th>\n",
              "      <th>184</th>\n",
              "    </tr>\n",
              "  </thead>\n",
              "  <tbody>\n",
              "    <tr>\n",
              "      <th>1968</th>\n",
              "      <td>0.715742</td>\n",
              "      <td>0.527863</td>\n",
              "      <td>0.648140</td>\n",
              "      <td>0.409642</td>\n",
              "      <td>0.711280</td>\n",
              "      <td>0.548542</td>\n",
              "      <td>0.704874</td>\n",
              "      <td>0.604364</td>\n",
              "      <td>0.701636</td>\n",
              "      <td>0.628758</td>\n",
              "      <td>...</td>\n",
              "      <td>0.603479</td>\n",
              "      <td>0.725469</td>\n",
              "      <td>0.622336</td>\n",
              "      <td>0.738816</td>\n",
              "      <td>0.577608</td>\n",
              "      <td>0.728683</td>\n",
              "      <td>0.577603</td>\n",
              "      <td>0.779321</td>\n",
              "      <td>0.436186</td>\n",
              "      <td>0</td>\n",
              "    </tr>\n",
              "    <tr>\n",
              "      <th>1758</th>\n",
              "      <td>0.514785</td>\n",
              "      <td>0.571718</td>\n",
              "      <td>0.441368</td>\n",
              "      <td>0.444177</td>\n",
              "      <td>0.514613</td>\n",
              "      <td>0.591593</td>\n",
              "      <td>0.518217</td>\n",
              "      <td>0.667710</td>\n",
              "      <td>0.518665</td>\n",
              "      <td>0.684366</td>\n",
              "      <td>...</td>\n",
              "      <td>0.657989</td>\n",
              "      <td>0.544631</td>\n",
              "      <td>0.669527</td>\n",
              "      <td>0.550261</td>\n",
              "      <td>0.617380</td>\n",
              "      <td>0.542253</td>\n",
              "      <td>0.620188</td>\n",
              "      <td>0.584541</td>\n",
              "      <td>0.436058</td>\n",
              "      <td>0</td>\n",
              "    </tr>\n",
              "    <tr>\n",
              "      <th>3165</th>\n",
              "      <td>0.706736</td>\n",
              "      <td>0.616934</td>\n",
              "      <td>0.643150</td>\n",
              "      <td>0.470867</td>\n",
              "      <td>0.704517</td>\n",
              "      <td>0.624989</td>\n",
              "      <td>0.701094</td>\n",
              "      <td>0.649145</td>\n",
              "      <td>0.698021</td>\n",
              "      <td>0.672595</td>\n",
              "      <td>...</td>\n",
              "      <td>0.645696</td>\n",
              "      <td>0.727070</td>\n",
              "      <td>0.664471</td>\n",
              "      <td>0.747990</td>\n",
              "      <td>0.621902</td>\n",
              "      <td>0.741872</td>\n",
              "      <td>0.625363</td>\n",
              "      <td>0.787564</td>\n",
              "      <td>0.488455</td>\n",
              "      <td>4</td>\n",
              "    </tr>\n",
              "    <tr>\n",
              "      <th>3163</th>\n",
              "      <td>0.691214</td>\n",
              "      <td>0.615424</td>\n",
              "      <td>0.627615</td>\n",
              "      <td>0.468479</td>\n",
              "      <td>0.689398</td>\n",
              "      <td>0.623734</td>\n",
              "      <td>0.686267</td>\n",
              "      <td>0.648551</td>\n",
              "      <td>0.683529</td>\n",
              "      <td>0.672754</td>\n",
              "      <td>...</td>\n",
              "      <td>0.644625</td>\n",
              "      <td>0.713159</td>\n",
              "      <td>0.663968</td>\n",
              "      <td>0.734307</td>\n",
              "      <td>0.619093</td>\n",
              "      <td>0.728261</td>\n",
              "      <td>0.622823</td>\n",
              "      <td>0.770812</td>\n",
              "      <td>0.486465</td>\n",
              "      <td>4</td>\n",
              "    </tr>\n",
              "    <tr>\n",
              "      <th>4394</th>\n",
              "      <td>0.777766</td>\n",
              "      <td>0.329424</td>\n",
              "      <td>0.669197</td>\n",
              "      <td>0.184112</td>\n",
              "      <td>0.773512</td>\n",
              "      <td>0.361206</td>\n",
              "      <td>0.770961</td>\n",
              "      <td>0.433127</td>\n",
              "      <td>0.769539</td>\n",
              "      <td>0.470253</td>\n",
              "      <td>...</td>\n",
              "      <td>0.429716</td>\n",
              "      <td>0.803124</td>\n",
              "      <td>0.458287</td>\n",
              "      <td>0.816632</td>\n",
              "      <td>0.390822</td>\n",
              "      <td>0.800570</td>\n",
              "      <td>0.394331</td>\n",
              "      <td>0.873489</td>\n",
              "      <td>0.182667</td>\n",
              "      <td>0</td>\n",
              "    </tr>\n",
              "    <tr>\n",
              "      <th>...</th>\n",
              "      <td>...</td>\n",
              "      <td>...</td>\n",
              "      <td>...</td>\n",
              "      <td>...</td>\n",
              "      <td>...</td>\n",
              "      <td>...</td>\n",
              "      <td>...</td>\n",
              "      <td>...</td>\n",
              "      <td>...</td>\n",
              "      <td>...</td>\n",
              "      <td>...</td>\n",
              "      <td>...</td>\n",
              "      <td>...</td>\n",
              "      <td>...</td>\n",
              "      <td>...</td>\n",
              "      <td>...</td>\n",
              "      <td>...</td>\n",
              "      <td>...</td>\n",
              "      <td>...</td>\n",
              "      <td>...</td>\n",
              "      <td>...</td>\n",
              "    </tr>\n",
              "    <tr>\n",
              "      <th>2841</th>\n",
              "      <td>0.787319</td>\n",
              "      <td>0.677533</td>\n",
              "      <td>0.714444</td>\n",
              "      <td>0.531696</td>\n",
              "      <td>0.785011</td>\n",
              "      <td>0.692270</td>\n",
              "      <td>0.784765</td>\n",
              "      <td>0.692521</td>\n",
              "      <td>0.783325</td>\n",
              "      <td>0.713970</td>\n",
              "      <td>...</td>\n",
              "      <td>0.694165</td>\n",
              "      <td>0.802882</td>\n",
              "      <td>0.711995</td>\n",
              "      <td>0.815392</td>\n",
              "      <td>0.695633</td>\n",
              "      <td>0.808746</td>\n",
              "      <td>0.697748</td>\n",
              "      <td>0.856276</td>\n",
              "      <td>0.542701</td>\n",
              "      <td>1</td>\n",
              "    </tr>\n",
              "    <tr>\n",
              "      <th>1336</th>\n",
              "      <td>0.504179</td>\n",
              "      <td>0.649044</td>\n",
              "      <td>0.429482</td>\n",
              "      <td>0.487894</td>\n",
              "      <td>0.502990</td>\n",
              "      <td>0.668925</td>\n",
              "      <td>0.502939</td>\n",
              "      <td>0.668926</td>\n",
              "      <td>0.501771</td>\n",
              "      <td>0.693578</td>\n",
              "      <td>...</td>\n",
              "      <td>0.670716</td>\n",
              "      <td>0.527188</td>\n",
              "      <td>0.690871</td>\n",
              "      <td>0.544524</td>\n",
              "      <td>0.672484</td>\n",
              "      <td>0.536886</td>\n",
              "      <td>0.675540</td>\n",
              "      <td>0.589697</td>\n",
              "      <td>0.497022</td>\n",
              "      <td>2</td>\n",
              "    </tr>\n",
              "    <tr>\n",
              "      <th>2645</th>\n",
              "      <td>0.517571</td>\n",
              "      <td>0.597315</td>\n",
              "      <td>0.442575</td>\n",
              "      <td>0.477837</td>\n",
              "      <td>0.518090</td>\n",
              "      <td>0.613639</td>\n",
              "      <td>0.518085</td>\n",
              "      <td>0.613599</td>\n",
              "      <td>0.519150</td>\n",
              "      <td>0.634844</td>\n",
              "      <td>...</td>\n",
              "      <td>0.612950</td>\n",
              "      <td>0.539333</td>\n",
              "      <td>0.629946</td>\n",
              "      <td>0.551900</td>\n",
              "      <td>0.612876</td>\n",
              "      <td>0.546124</td>\n",
              "      <td>0.616188</td>\n",
              "      <td>0.575829</td>\n",
              "      <td>0.462732</td>\n",
              "      <td>1</td>\n",
              "    </tr>\n",
              "    <tr>\n",
              "      <th>3030</th>\n",
              "      <td>0.495497</td>\n",
              "      <td>0.537190</td>\n",
              "      <td>0.414089</td>\n",
              "      <td>0.416204</td>\n",
              "      <td>0.495957</td>\n",
              "      <td>0.546793</td>\n",
              "      <td>0.497330</td>\n",
              "      <td>0.571614</td>\n",
              "      <td>0.498655</td>\n",
              "      <td>0.595392</td>\n",
              "      <td>...</td>\n",
              "      <td>0.561607</td>\n",
              "      <td>0.529949</td>\n",
              "      <td>0.579468</td>\n",
              "      <td>0.546193</td>\n",
              "      <td>0.535582</td>\n",
              "      <td>0.540172</td>\n",
              "      <td>0.539535</td>\n",
              "      <td>0.559677</td>\n",
              "      <td>0.393457</td>\n",
              "      <td>4</td>\n",
              "    </tr>\n",
              "    <tr>\n",
              "      <th>2298</th>\n",
              "      <td>0.502941</td>\n",
              "      <td>0.665695</td>\n",
              "      <td>0.431499</td>\n",
              "      <td>0.506915</td>\n",
              "      <td>0.503966</td>\n",
              "      <td>0.681252</td>\n",
              "      <td>0.504209</td>\n",
              "      <td>0.698106</td>\n",
              "      <td>0.504381</td>\n",
              "      <td>0.726741</td>\n",
              "      <td>...</td>\n",
              "      <td>0.693766</td>\n",
              "      <td>0.533626</td>\n",
              "      <td>0.716062</td>\n",
              "      <td>0.549745</td>\n",
              "      <td>0.683092</td>\n",
              "      <td>0.541995</td>\n",
              "      <td>0.685850</td>\n",
              "      <td>0.591311</td>\n",
              "      <td>0.506276</td>\n",
              "      <td>3</td>\n",
              "    </tr>\n",
              "  </tbody>\n",
              "</table>\n",
              "<p>5000 rows × 185 columns</p>\n",
              "</div>\n",
              "      <button class=\"colab-df-convert\" onclick=\"convertToInteractive('df-6d38fabb-b3dc-428c-96f1-2f0c3b818d74')\"\n",
              "              title=\"Convert this dataframe to an interactive table.\"\n",
              "              style=\"display:none;\">\n",
              "        \n",
              "  <svg xmlns=\"http://www.w3.org/2000/svg\" height=\"24px\"viewBox=\"0 0 24 24\"\n",
              "       width=\"24px\">\n",
              "    <path d=\"M0 0h24v24H0V0z\" fill=\"none\"/>\n",
              "    <path d=\"M18.56 5.44l.94 2.06.94-2.06 2.06-.94-2.06-.94-.94-2.06-.94 2.06-2.06.94zm-11 1L8.5 8.5l.94-2.06 2.06-.94-2.06-.94L8.5 2.5l-.94 2.06-2.06.94zm10 10l.94 2.06.94-2.06 2.06-.94-2.06-.94-.94-2.06-.94 2.06-2.06.94z\"/><path d=\"M17.41 7.96l-1.37-1.37c-.4-.4-.92-.59-1.43-.59-.52 0-1.04.2-1.43.59L10.3 9.45l-7.72 7.72c-.78.78-.78 2.05 0 2.83L4 21.41c.39.39.9.59 1.41.59.51 0 1.02-.2 1.41-.59l7.78-7.78 2.81-2.81c.8-.78.8-2.07 0-2.86zM5.41 20L4 18.59l7.72-7.72 1.47 1.35L5.41 20z\"/>\n",
              "  </svg>\n",
              "      </button>\n",
              "      \n",
              "  <style>\n",
              "    .colab-df-container {\n",
              "      display:flex;\n",
              "      flex-wrap:wrap;\n",
              "      gap: 12px;\n",
              "    }\n",
              "\n",
              "    .colab-df-convert {\n",
              "      background-color: #E8F0FE;\n",
              "      border: none;\n",
              "      border-radius: 50%;\n",
              "      cursor: pointer;\n",
              "      display: none;\n",
              "      fill: #1967D2;\n",
              "      height: 32px;\n",
              "      padding: 0 0 0 0;\n",
              "      width: 32px;\n",
              "    }\n",
              "\n",
              "    .colab-df-convert:hover {\n",
              "      background-color: #E2EBFA;\n",
              "      box-shadow: 0px 1px 2px rgba(60, 64, 67, 0.3), 0px 1px 3px 1px rgba(60, 64, 67, 0.15);\n",
              "      fill: #174EA6;\n",
              "    }\n",
              "\n",
              "    [theme=dark] .colab-df-convert {\n",
              "      background-color: #3B4455;\n",
              "      fill: #D2E3FC;\n",
              "    }\n",
              "\n",
              "    [theme=dark] .colab-df-convert:hover {\n",
              "      background-color: #434B5C;\n",
              "      box-shadow: 0px 1px 3px 1px rgba(0, 0, 0, 0.15);\n",
              "      filter: drop-shadow(0px 1px 2px rgba(0, 0, 0, 0.3));\n",
              "      fill: #FFFFFF;\n",
              "    }\n",
              "  </style>\n",
              "\n",
              "      <script>\n",
              "        const buttonEl =\n",
              "          document.querySelector('#df-6d38fabb-b3dc-428c-96f1-2f0c3b818d74 button.colab-df-convert');\n",
              "        buttonEl.style.display =\n",
              "          google.colab.kernel.accessAllowed ? 'block' : 'none';\n",
              "\n",
              "        async function convertToInteractive(key) {\n",
              "          const element = document.querySelector('#df-6d38fabb-b3dc-428c-96f1-2f0c3b818d74');\n",
              "          const dataTable =\n",
              "            await google.colab.kernel.invokeFunction('convertToInteractive',\n",
              "                                                     [key], {});\n",
              "          if (!dataTable) return;\n",
              "\n",
              "          const docLinkHtml = 'Like what you see? Visit the ' +\n",
              "            '<a target=\"_blank\" href=https://colab.research.google.com/notebooks/data_table.ipynb>data table notebook</a>'\n",
              "            + ' to learn more about interactive tables.';\n",
              "          element.innerHTML = '';\n",
              "          dataTable['output_type'] = 'display_data';\n",
              "          await google.colab.output.renderOutput(dataTable, element);\n",
              "          const docLink = document.createElement('div');\n",
              "          docLink.innerHTML = docLinkHtml;\n",
              "          element.appendChild(docLink);\n",
              "        }\n",
              "      </script>\n",
              "    </div>\n",
              "  </div>\n",
              "  "
            ]
          },
          "metadata": {},
          "execution_count": 8
        }
      ],
      "source": [
        "df.sample(frac=1)"
      ]
    },
    {
      "cell_type": "code",
      "execution_count": 9,
      "metadata": {
        "colab": {
          "base_uri": "https://localhost:8080/",
          "height": 531
        },
        "id": "A_xQBwKDtNxw",
        "outputId": "d108e360-8efc-46a2-ad41-7d9d30b248b0"
      },
      "outputs": [
        {
          "output_type": "stream",
          "name": "stdout",
          "text": [
            "<class 'pandas.core.frame.DataFrame'>\n",
            "RangeIndex: 5000 entries, 0 to 4999\n",
            "Columns: 185 entries, 0 to 184\n",
            "dtypes: float64(184), int64(1)\n",
            "memory usage: 7.1 MB\n"
          ]
        },
        {
          "output_type": "display_data",
          "data": {
            "text/plain": [
              "None"
            ]
          },
          "metadata": {}
        },
        {
          "output_type": "display_data",
          "data": {
            "text/plain": [
              "      count      mean       std       min       25%       50%       75%  \\\n",
              "0    5000.0  0.529314  0.121410  0.135405  0.496387  0.512589  0.569693   \n",
              "1    5000.0  0.559875  0.095904  0.260173  0.499969  0.570127  0.646571   \n",
              "2    5000.0  0.446316  0.123192  0.035051  0.415156  0.440213  0.478543   \n",
              "3    5000.0  0.416702  0.098595  0.145206  0.372073  0.445495  0.489342   \n",
              "4    5000.0  0.529411  0.119522  0.145289  0.496754  0.512203  0.569485   \n",
              "..      ...       ...       ...       ...       ...       ...       ...   \n",
              "180  5000.0  0.565263  0.115946  0.210532  0.532994  0.548575  0.606192   \n",
              "181  5000.0  0.582197  0.091265  0.303010  0.517015  0.603196  0.661763   \n",
              "182  5000.0  0.604392  0.125900  0.218041  0.569685  0.589193  0.656805   \n",
              "183  5000.0  0.404529  0.107024  0.120360  0.350074  0.435527  0.490803   \n",
              "184  5000.0  2.000000  1.414355  0.000000  1.000000  2.000000  3.000000   \n",
              "\n",
              "          max  \n",
              "0    0.912420  \n",
              "1    0.760318  \n",
              "2    0.804739  \n",
              "3    0.588832  \n",
              "4    0.905986  \n",
              "..        ...  \n",
              "180  0.936622  \n",
              "181  0.774305  \n",
              "182  0.997882  \n",
              "183  0.579168  \n",
              "184  4.000000  \n",
              "\n",
              "[185 rows x 8 columns]"
            ],
            "text/html": [
              "\n",
              "  <div id=\"df-b0c89efe-177d-4aee-aba2-44134ad830a9\">\n",
              "    <div class=\"colab-df-container\">\n",
              "      <div>\n",
              "<style scoped>\n",
              "    .dataframe tbody tr th:only-of-type {\n",
              "        vertical-align: middle;\n",
              "    }\n",
              "\n",
              "    .dataframe tbody tr th {\n",
              "        vertical-align: top;\n",
              "    }\n",
              "\n",
              "    .dataframe thead th {\n",
              "        text-align: right;\n",
              "    }\n",
              "</style>\n",
              "<table border=\"1\" class=\"dataframe\">\n",
              "  <thead>\n",
              "    <tr style=\"text-align: right;\">\n",
              "      <th></th>\n",
              "      <th>count</th>\n",
              "      <th>mean</th>\n",
              "      <th>std</th>\n",
              "      <th>min</th>\n",
              "      <th>25%</th>\n",
              "      <th>50%</th>\n",
              "      <th>75%</th>\n",
              "      <th>max</th>\n",
              "    </tr>\n",
              "  </thead>\n",
              "  <tbody>\n",
              "    <tr>\n",
              "      <th>0</th>\n",
              "      <td>5000.0</td>\n",
              "      <td>0.529314</td>\n",
              "      <td>0.121410</td>\n",
              "      <td>0.135405</td>\n",
              "      <td>0.496387</td>\n",
              "      <td>0.512589</td>\n",
              "      <td>0.569693</td>\n",
              "      <td>0.912420</td>\n",
              "    </tr>\n",
              "    <tr>\n",
              "      <th>1</th>\n",
              "      <td>5000.0</td>\n",
              "      <td>0.559875</td>\n",
              "      <td>0.095904</td>\n",
              "      <td>0.260173</td>\n",
              "      <td>0.499969</td>\n",
              "      <td>0.570127</td>\n",
              "      <td>0.646571</td>\n",
              "      <td>0.760318</td>\n",
              "    </tr>\n",
              "    <tr>\n",
              "      <th>2</th>\n",
              "      <td>5000.0</td>\n",
              "      <td>0.446316</td>\n",
              "      <td>0.123192</td>\n",
              "      <td>0.035051</td>\n",
              "      <td>0.415156</td>\n",
              "      <td>0.440213</td>\n",
              "      <td>0.478543</td>\n",
              "      <td>0.804739</td>\n",
              "    </tr>\n",
              "    <tr>\n",
              "      <th>3</th>\n",
              "      <td>5000.0</td>\n",
              "      <td>0.416702</td>\n",
              "      <td>0.098595</td>\n",
              "      <td>0.145206</td>\n",
              "      <td>0.372073</td>\n",
              "      <td>0.445495</td>\n",
              "      <td>0.489342</td>\n",
              "      <td>0.588832</td>\n",
              "    </tr>\n",
              "    <tr>\n",
              "      <th>4</th>\n",
              "      <td>5000.0</td>\n",
              "      <td>0.529411</td>\n",
              "      <td>0.119522</td>\n",
              "      <td>0.145289</td>\n",
              "      <td>0.496754</td>\n",
              "      <td>0.512203</td>\n",
              "      <td>0.569485</td>\n",
              "      <td>0.905986</td>\n",
              "    </tr>\n",
              "    <tr>\n",
              "      <th>...</th>\n",
              "      <td>...</td>\n",
              "      <td>...</td>\n",
              "      <td>...</td>\n",
              "      <td>...</td>\n",
              "      <td>...</td>\n",
              "      <td>...</td>\n",
              "      <td>...</td>\n",
              "      <td>...</td>\n",
              "    </tr>\n",
              "    <tr>\n",
              "      <th>180</th>\n",
              "      <td>5000.0</td>\n",
              "      <td>0.565263</td>\n",
              "      <td>0.115946</td>\n",
              "      <td>0.210532</td>\n",
              "      <td>0.532994</td>\n",
              "      <td>0.548575</td>\n",
              "      <td>0.606192</td>\n",
              "      <td>0.936622</td>\n",
              "    </tr>\n",
              "    <tr>\n",
              "      <th>181</th>\n",
              "      <td>5000.0</td>\n",
              "      <td>0.582197</td>\n",
              "      <td>0.091265</td>\n",
              "      <td>0.303010</td>\n",
              "      <td>0.517015</td>\n",
              "      <td>0.603196</td>\n",
              "      <td>0.661763</td>\n",
              "      <td>0.774305</td>\n",
              "    </tr>\n",
              "    <tr>\n",
              "      <th>182</th>\n",
              "      <td>5000.0</td>\n",
              "      <td>0.604392</td>\n",
              "      <td>0.125900</td>\n",
              "      <td>0.218041</td>\n",
              "      <td>0.569685</td>\n",
              "      <td>0.589193</td>\n",
              "      <td>0.656805</td>\n",
              "      <td>0.997882</td>\n",
              "    </tr>\n",
              "    <tr>\n",
              "      <th>183</th>\n",
              "      <td>5000.0</td>\n",
              "      <td>0.404529</td>\n",
              "      <td>0.107024</td>\n",
              "      <td>0.120360</td>\n",
              "      <td>0.350074</td>\n",
              "      <td>0.435527</td>\n",
              "      <td>0.490803</td>\n",
              "      <td>0.579168</td>\n",
              "    </tr>\n",
              "    <tr>\n",
              "      <th>184</th>\n",
              "      <td>5000.0</td>\n",
              "      <td>2.000000</td>\n",
              "      <td>1.414355</td>\n",
              "      <td>0.000000</td>\n",
              "      <td>1.000000</td>\n",
              "      <td>2.000000</td>\n",
              "      <td>3.000000</td>\n",
              "      <td>4.000000</td>\n",
              "    </tr>\n",
              "  </tbody>\n",
              "</table>\n",
              "<p>185 rows × 8 columns</p>\n",
              "</div>\n",
              "      <button class=\"colab-df-convert\" onclick=\"convertToInteractive('df-b0c89efe-177d-4aee-aba2-44134ad830a9')\"\n",
              "              title=\"Convert this dataframe to an interactive table.\"\n",
              "              style=\"display:none;\">\n",
              "        \n",
              "  <svg xmlns=\"http://www.w3.org/2000/svg\" height=\"24px\"viewBox=\"0 0 24 24\"\n",
              "       width=\"24px\">\n",
              "    <path d=\"M0 0h24v24H0V0z\" fill=\"none\"/>\n",
              "    <path d=\"M18.56 5.44l.94 2.06.94-2.06 2.06-.94-2.06-.94-.94-2.06-.94 2.06-2.06.94zm-11 1L8.5 8.5l.94-2.06 2.06-.94-2.06-.94L8.5 2.5l-.94 2.06-2.06.94zm10 10l.94 2.06.94-2.06 2.06-.94-2.06-.94-.94-2.06-.94 2.06-2.06.94z\"/><path d=\"M17.41 7.96l-1.37-1.37c-.4-.4-.92-.59-1.43-.59-.52 0-1.04.2-1.43.59L10.3 9.45l-7.72 7.72c-.78.78-.78 2.05 0 2.83L4 21.41c.39.39.9.59 1.41.59.51 0 1.02-.2 1.41-.59l7.78-7.78 2.81-2.81c.8-.78.8-2.07 0-2.86zM5.41 20L4 18.59l7.72-7.72 1.47 1.35L5.41 20z\"/>\n",
              "  </svg>\n",
              "      </button>\n",
              "      \n",
              "  <style>\n",
              "    .colab-df-container {\n",
              "      display:flex;\n",
              "      flex-wrap:wrap;\n",
              "      gap: 12px;\n",
              "    }\n",
              "\n",
              "    .colab-df-convert {\n",
              "      background-color: #E8F0FE;\n",
              "      border: none;\n",
              "      border-radius: 50%;\n",
              "      cursor: pointer;\n",
              "      display: none;\n",
              "      fill: #1967D2;\n",
              "      height: 32px;\n",
              "      padding: 0 0 0 0;\n",
              "      width: 32px;\n",
              "    }\n",
              "\n",
              "    .colab-df-convert:hover {\n",
              "      background-color: #E2EBFA;\n",
              "      box-shadow: 0px 1px 2px rgba(60, 64, 67, 0.3), 0px 1px 3px 1px rgba(60, 64, 67, 0.15);\n",
              "      fill: #174EA6;\n",
              "    }\n",
              "\n",
              "    [theme=dark] .colab-df-convert {\n",
              "      background-color: #3B4455;\n",
              "      fill: #D2E3FC;\n",
              "    }\n",
              "\n",
              "    [theme=dark] .colab-df-convert:hover {\n",
              "      background-color: #434B5C;\n",
              "      box-shadow: 0px 1px 3px 1px rgba(0, 0, 0, 0.15);\n",
              "      filter: drop-shadow(0px 1px 2px rgba(0, 0, 0, 0.3));\n",
              "      fill: #FFFFFF;\n",
              "    }\n",
              "  </style>\n",
              "\n",
              "      <script>\n",
              "        const buttonEl =\n",
              "          document.querySelector('#df-b0c89efe-177d-4aee-aba2-44134ad830a9 button.colab-df-convert');\n",
              "        buttonEl.style.display =\n",
              "          google.colab.kernel.accessAllowed ? 'block' : 'none';\n",
              "\n",
              "        async function convertToInteractive(key) {\n",
              "          const element = document.querySelector('#df-b0c89efe-177d-4aee-aba2-44134ad830a9');\n",
              "          const dataTable =\n",
              "            await google.colab.kernel.invokeFunction('convertToInteractive',\n",
              "                                                     [key], {});\n",
              "          if (!dataTable) return;\n",
              "\n",
              "          const docLinkHtml = 'Like what you see? Visit the ' +\n",
              "            '<a target=\"_blank\" href=https://colab.research.google.com/notebooks/data_table.ipynb>data table notebook</a>'\n",
              "            + ' to learn more about interactive tables.';\n",
              "          element.innerHTML = '';\n",
              "          dataTable['output_type'] = 'display_data';\n",
              "          await google.colab.output.renderOutput(dataTable, element);\n",
              "          const docLink = document.createElement('div');\n",
              "          docLink.innerHTML = docLinkHtml;\n",
              "          element.appendChild(docLink);\n",
              "        }\n",
              "      </script>\n",
              "    </div>\n",
              "  </div>\n",
              "  "
            ]
          },
          "metadata": {}
        }
      ],
      "source": [
        "display(df.info(), df.describe().T)"
      ]
    },
    {
      "cell_type": "code",
      "execution_count": 10,
      "metadata": {
        "colab": {
          "base_uri": "https://localhost:8080/",
          "height": 407
        },
        "id": "cJgTotWQtQEC",
        "outputId": "b7d6f9ec-e10a-4b47-bc63-439ea50cf61a"
      },
      "outputs": [
        {
          "output_type": "display_data",
          "data": {
            "text/plain": [
              "          0         1         2         3         4         5         6  \\\n",
              "0  0.544275  0.489766  0.478252  0.381462  0.544920  0.507024  0.544717   \n",
              "1  0.534347  0.493370  0.470491  0.378985  0.535169  0.508110  0.535000   \n",
              "2  0.533318  0.494122  0.467963  0.379832  0.534231  0.509847  0.533963   \n",
              "3  0.532908  0.495667  0.467501  0.380133  0.533887  0.510025  0.533832   \n",
              "4  0.532545  0.494852  0.468164  0.379853  0.533831  0.509942  0.533748   \n",
              "\n",
              "          7         8         9  ...       174       175       176       177  \\\n",
              "0  0.507232  0.545840  0.528162  ...  0.558468  0.506086  0.563004  0.522331   \n",
              "1  0.508246  0.535752  0.524877  ...  0.549437  0.507017  0.552699  0.520293   \n",
              "2  0.510075  0.534930  0.528483  ...  0.548586  0.508967  0.552772  0.523133   \n",
              "3  0.510170  0.535072  0.527727  ...  0.548626  0.508982  0.552736  0.522589   \n",
              "4  0.510049  0.535094  0.528073  ...  0.548479  0.508699  0.552740  0.522762   \n",
              "\n",
              "        178       179       180       181       182       183  \n",
              "0  0.573575  0.504813  0.568157  0.508288  0.596934  0.357300  \n",
              "1  0.564831  0.506325  0.560077  0.509084  0.590878  0.357876  \n",
              "2  0.564357  0.507496  0.559269  0.510741  0.589321  0.357889  \n",
              "3  0.563863  0.507534  0.559131  0.510484  0.588851  0.357857  \n",
              "4  0.563882  0.507243  0.559186  0.510260  0.588814  0.358042  \n",
              "\n",
              "[5 rows x 184 columns]"
            ],
            "text/html": [
              "\n",
              "  <div id=\"df-a782ba4a-8b0e-4325-bd9e-b5c1f96d991d\">\n",
              "    <div class=\"colab-df-container\">\n",
              "      <div>\n",
              "<style scoped>\n",
              "    .dataframe tbody tr th:only-of-type {\n",
              "        vertical-align: middle;\n",
              "    }\n",
              "\n",
              "    .dataframe tbody tr th {\n",
              "        vertical-align: top;\n",
              "    }\n",
              "\n",
              "    .dataframe thead th {\n",
              "        text-align: right;\n",
              "    }\n",
              "</style>\n",
              "<table border=\"1\" class=\"dataframe\">\n",
              "  <thead>\n",
              "    <tr style=\"text-align: right;\">\n",
              "      <th></th>\n",
              "      <th>0</th>\n",
              "      <th>1</th>\n",
              "      <th>2</th>\n",
              "      <th>3</th>\n",
              "      <th>4</th>\n",
              "      <th>5</th>\n",
              "      <th>6</th>\n",
              "      <th>7</th>\n",
              "      <th>8</th>\n",
              "      <th>9</th>\n",
              "      <th>...</th>\n",
              "      <th>174</th>\n",
              "      <th>175</th>\n",
              "      <th>176</th>\n",
              "      <th>177</th>\n",
              "      <th>178</th>\n",
              "      <th>179</th>\n",
              "      <th>180</th>\n",
              "      <th>181</th>\n",
              "      <th>182</th>\n",
              "      <th>183</th>\n",
              "    </tr>\n",
              "  </thead>\n",
              "  <tbody>\n",
              "    <tr>\n",
              "      <th>0</th>\n",
              "      <td>0.544275</td>\n",
              "      <td>0.489766</td>\n",
              "      <td>0.478252</td>\n",
              "      <td>0.381462</td>\n",
              "      <td>0.544920</td>\n",
              "      <td>0.507024</td>\n",
              "      <td>0.544717</td>\n",
              "      <td>0.507232</td>\n",
              "      <td>0.545840</td>\n",
              "      <td>0.528162</td>\n",
              "      <td>...</td>\n",
              "      <td>0.558468</td>\n",
              "      <td>0.506086</td>\n",
              "      <td>0.563004</td>\n",
              "      <td>0.522331</td>\n",
              "      <td>0.573575</td>\n",
              "      <td>0.504813</td>\n",
              "      <td>0.568157</td>\n",
              "      <td>0.508288</td>\n",
              "      <td>0.596934</td>\n",
              "      <td>0.357300</td>\n",
              "    </tr>\n",
              "    <tr>\n",
              "      <th>1</th>\n",
              "      <td>0.534347</td>\n",
              "      <td>0.493370</td>\n",
              "      <td>0.470491</td>\n",
              "      <td>0.378985</td>\n",
              "      <td>0.535169</td>\n",
              "      <td>0.508110</td>\n",
              "      <td>0.535000</td>\n",
              "      <td>0.508246</td>\n",
              "      <td>0.535752</td>\n",
              "      <td>0.524877</td>\n",
              "      <td>...</td>\n",
              "      <td>0.549437</td>\n",
              "      <td>0.507017</td>\n",
              "      <td>0.552699</td>\n",
              "      <td>0.520293</td>\n",
              "      <td>0.564831</td>\n",
              "      <td>0.506325</td>\n",
              "      <td>0.560077</td>\n",
              "      <td>0.509084</td>\n",
              "      <td>0.590878</td>\n",
              "      <td>0.357876</td>\n",
              "    </tr>\n",
              "    <tr>\n",
              "      <th>2</th>\n",
              "      <td>0.533318</td>\n",
              "      <td>0.494122</td>\n",
              "      <td>0.467963</td>\n",
              "      <td>0.379832</td>\n",
              "      <td>0.534231</td>\n",
              "      <td>0.509847</td>\n",
              "      <td>0.533963</td>\n",
              "      <td>0.510075</td>\n",
              "      <td>0.534930</td>\n",
              "      <td>0.528483</td>\n",
              "      <td>...</td>\n",
              "      <td>0.548586</td>\n",
              "      <td>0.508967</td>\n",
              "      <td>0.552772</td>\n",
              "      <td>0.523133</td>\n",
              "      <td>0.564357</td>\n",
              "      <td>0.507496</td>\n",
              "      <td>0.559269</td>\n",
              "      <td>0.510741</td>\n",
              "      <td>0.589321</td>\n",
              "      <td>0.357889</td>\n",
              "    </tr>\n",
              "    <tr>\n",
              "      <th>3</th>\n",
              "      <td>0.532908</td>\n",
              "      <td>0.495667</td>\n",
              "      <td>0.467501</td>\n",
              "      <td>0.380133</td>\n",
              "      <td>0.533887</td>\n",
              "      <td>0.510025</td>\n",
              "      <td>0.533832</td>\n",
              "      <td>0.510170</td>\n",
              "      <td>0.535072</td>\n",
              "      <td>0.527727</td>\n",
              "      <td>...</td>\n",
              "      <td>0.548626</td>\n",
              "      <td>0.508982</td>\n",
              "      <td>0.552736</td>\n",
              "      <td>0.522589</td>\n",
              "      <td>0.563863</td>\n",
              "      <td>0.507534</td>\n",
              "      <td>0.559131</td>\n",
              "      <td>0.510484</td>\n",
              "      <td>0.588851</td>\n",
              "      <td>0.357857</td>\n",
              "    </tr>\n",
              "    <tr>\n",
              "      <th>4</th>\n",
              "      <td>0.532545</td>\n",
              "      <td>0.494852</td>\n",
              "      <td>0.468164</td>\n",
              "      <td>0.379853</td>\n",
              "      <td>0.533831</td>\n",
              "      <td>0.509942</td>\n",
              "      <td>0.533748</td>\n",
              "      <td>0.510049</td>\n",
              "      <td>0.535094</td>\n",
              "      <td>0.528073</td>\n",
              "      <td>...</td>\n",
              "      <td>0.548479</td>\n",
              "      <td>0.508699</td>\n",
              "      <td>0.552740</td>\n",
              "      <td>0.522762</td>\n",
              "      <td>0.563882</td>\n",
              "      <td>0.507243</td>\n",
              "      <td>0.559186</td>\n",
              "      <td>0.510260</td>\n",
              "      <td>0.588814</td>\n",
              "      <td>0.358042</td>\n",
              "    </tr>\n",
              "  </tbody>\n",
              "</table>\n",
              "<p>5 rows × 184 columns</p>\n",
              "</div>\n",
              "      <button class=\"colab-df-convert\" onclick=\"convertToInteractive('df-a782ba4a-8b0e-4325-bd9e-b5c1f96d991d')\"\n",
              "              title=\"Convert this dataframe to an interactive table.\"\n",
              "              style=\"display:none;\">\n",
              "        \n",
              "  <svg xmlns=\"http://www.w3.org/2000/svg\" height=\"24px\"viewBox=\"0 0 24 24\"\n",
              "       width=\"24px\">\n",
              "    <path d=\"M0 0h24v24H0V0z\" fill=\"none\"/>\n",
              "    <path d=\"M18.56 5.44l.94 2.06.94-2.06 2.06-.94-2.06-.94-.94-2.06-.94 2.06-2.06.94zm-11 1L8.5 8.5l.94-2.06 2.06-.94-2.06-.94L8.5 2.5l-.94 2.06-2.06.94zm10 10l.94 2.06.94-2.06 2.06-.94-2.06-.94-.94-2.06-.94 2.06-2.06.94z\"/><path d=\"M17.41 7.96l-1.37-1.37c-.4-.4-.92-.59-1.43-.59-.52 0-1.04.2-1.43.59L10.3 9.45l-7.72 7.72c-.78.78-.78 2.05 0 2.83L4 21.41c.39.39.9.59 1.41.59.51 0 1.02-.2 1.41-.59l7.78-7.78 2.81-2.81c.8-.78.8-2.07 0-2.86zM5.41 20L4 18.59l7.72-7.72 1.47 1.35L5.41 20z\"/>\n",
              "  </svg>\n",
              "      </button>\n",
              "      \n",
              "  <style>\n",
              "    .colab-df-container {\n",
              "      display:flex;\n",
              "      flex-wrap:wrap;\n",
              "      gap: 12px;\n",
              "    }\n",
              "\n",
              "    .colab-df-convert {\n",
              "      background-color: #E8F0FE;\n",
              "      border: none;\n",
              "      border-radius: 50%;\n",
              "      cursor: pointer;\n",
              "      display: none;\n",
              "      fill: #1967D2;\n",
              "      height: 32px;\n",
              "      padding: 0 0 0 0;\n",
              "      width: 32px;\n",
              "    }\n",
              "\n",
              "    .colab-df-convert:hover {\n",
              "      background-color: #E2EBFA;\n",
              "      box-shadow: 0px 1px 2px rgba(60, 64, 67, 0.3), 0px 1px 3px 1px rgba(60, 64, 67, 0.15);\n",
              "      fill: #174EA6;\n",
              "    }\n",
              "\n",
              "    [theme=dark] .colab-df-convert {\n",
              "      background-color: #3B4455;\n",
              "      fill: #D2E3FC;\n",
              "    }\n",
              "\n",
              "    [theme=dark] .colab-df-convert:hover {\n",
              "      background-color: #434B5C;\n",
              "      box-shadow: 0px 1px 3px 1px rgba(0, 0, 0, 0.15);\n",
              "      filter: drop-shadow(0px 1px 2px rgba(0, 0, 0, 0.3));\n",
              "      fill: #FFFFFF;\n",
              "    }\n",
              "  </style>\n",
              "\n",
              "      <script>\n",
              "        const buttonEl =\n",
              "          document.querySelector('#df-a782ba4a-8b0e-4325-bd9e-b5c1f96d991d button.colab-df-convert');\n",
              "        buttonEl.style.display =\n",
              "          google.colab.kernel.accessAllowed ? 'block' : 'none';\n",
              "\n",
              "        async function convertToInteractive(key) {\n",
              "          const element = document.querySelector('#df-a782ba4a-8b0e-4325-bd9e-b5c1f96d991d');\n",
              "          const dataTable =\n",
              "            await google.colab.kernel.invokeFunction('convertToInteractive',\n",
              "                                                     [key], {});\n",
              "          if (!dataTable) return;\n",
              "\n",
              "          const docLinkHtml = 'Like what you see? Visit the ' +\n",
              "            '<a target=\"_blank\" href=https://colab.research.google.com/notebooks/data_table.ipynb>data table notebook</a>'\n",
              "            + ' to learn more about interactive tables.';\n",
              "          element.innerHTML = '';\n",
              "          dataTable['output_type'] = 'display_data';\n",
              "          await google.colab.output.renderOutput(dataTable, element);\n",
              "          const docLink = document.createElement('div');\n",
              "          docLink.innerHTML = docLinkHtml;\n",
              "          element.appendChild(docLink);\n",
              "        }\n",
              "      </script>\n",
              "    </div>\n",
              "  </div>\n",
              "  "
            ]
          },
          "metadata": {}
        },
        {
          "output_type": "display_data",
          "data": {
            "text/plain": [
              "0    1\n",
              "1    1\n",
              "2    1\n",
              "3    1\n",
              "4    1\n",
              "Name: 184, dtype: int64"
            ]
          },
          "metadata": {}
        }
      ],
      "source": [
        "df_X = df.drop(['184'], axis=1)\n",
        "df_y = df['184']\n",
        "display(df_X.head(), df_y.head())"
      ]
    },
    {
      "cell_type": "code",
      "execution_count": 11,
      "metadata": {
        "id": "c07ANuRRtZpX"
      },
      "outputs": [],
      "source": [
        "from sklearn.model_selection import train_test_split\n",
        "from sklearn.metrics import accuracy_score"
      ]
    },
    {
      "cell_type": "code",
      "execution_count": 12,
      "metadata": {
        "colab": {
          "base_uri": "https://localhost:8080/",
          "height": 231
        },
        "id": "UHG0SMd2tlyv",
        "outputId": "08ec50cf-74dd-4802-aafd-4ffbb5116b0e"
      },
      "outputs": [
        {
          "output_type": "display_data",
          "data": {
            "text/plain": [
              "442     1\n",
              "4832    3\n",
              "1863    0\n",
              "3377    4\n",
              "3110    4\n",
              "Name: 184, dtype: int64"
            ]
          },
          "metadata": {}
        },
        {
          "output_type": "display_data",
          "data": {
            "text/plain": [
              "1607    0\n",
              "602     4\n",
              "4791    3\n",
              "3761    2\n",
              "4469    0\n",
              "Name: 184, dtype: int64"
            ]
          },
          "metadata": {}
        }
      ],
      "source": [
        "X_train, X_test, y_train, y_test = train_test_split(df_X, df_y, train_size=0.90)\n",
        "display(y_train.head(), y_test.head())"
      ]
    },
    {
      "cell_type": "code",
      "execution_count": 13,
      "metadata": {
        "id": "j2KsMmymttq2"
      },
      "outputs": [],
      "source": [
        "X_train, X_validation, y_train, y_validation = train_test_split(X_train, y_train, train_size=0.80)"
      ]
    },
    {
      "cell_type": "code",
      "execution_count": 14,
      "metadata": {
        "id": "QgiD-rht2GJ5"
      },
      "outputs": [],
      "source": [
        "import matplotlib.pyplot as plt\n",
        "from sklearn.metrics import accuracy_score, f1_score\n",
        "from sklearn.model_selection import GridSearchCV\n",
        "training_data = {'X_train':X_train,'Y_train':y_train,\n",
        "                'X_val': X_validation,'Y_val':y_validation,\n",
        "                'X_test': X_test,'Y_test':y_test}"
      ]
    },
    {
      "cell_type": "markdown",
      "source": [
        "**NO CORRER ESTO**"
      ],
      "metadata": {
        "id": "Qt4KJnEHDnso"
      }
    },
    {
      "cell_type": "code",
      "execution_count": null,
      "metadata": {
        "colab": {
          "base_uri": "https://localhost:8080/"
        },
        "id": "JHkpz9Mm3upA",
        "outputId": "c65186d6-7852-43f9-d37c-ae45212cb870"
      },
      "outputs": [
        {
          "name": "stderr",
          "output_type": "stream",
          "text": [
            "[Parallel(n_jobs=1)]: Using backend SequentialBackend with 1 concurrent workers.\n",
            "[Parallel(n_jobs=1)]: Done 100 out of 100 | elapsed:    3.0s finished\n"
          ]
        },
        {
          "data": {
            "text/plain": [
              "RandomForestClassifier(random_state=27, verbose=1)"
            ]
          },
          "execution_count": 17,
          "metadata": {},
          "output_type": "execute_result"
        }
      ],
      "source": [
        "from sklearn.ensemble import RandomForestClassifier\n",
        "\n",
        "clf = RandomForestClassifier(n_jobs=None,random_state=27,\n",
        "                       verbose=1)\n",
        "clf.fit(training_data['X_train'], training_data['Y_train'])"
      ]
    },
    {
      "cell_type": "code",
      "execution_count": null,
      "metadata": {
        "colab": {
          "base_uri": "https://localhost:8080/"
        },
        "id": "wtdxMdsq37qd",
        "outputId": "a7baf302-18a4-4140-c0e3-5f17851c8795"
      },
      "outputs": [
        {
          "name": "stderr",
          "output_type": "stream",
          "text": [
            "[Parallel(n_jobs=1)]: Using backend SequentialBackend with 1 concurrent workers.\n",
            "[Parallel(n_jobs=1)]: Done 100 out of 100 | elapsed:    0.0s finished\n"
          ]
        }
      ],
      "source": [
        "predicted_labels = clf.predict(training_data['X_test'])"
      ]
    },
    {
      "cell_type": "code",
      "execution_count": null,
      "metadata": {
        "colab": {
          "base_uri": "https://localhost:8080/"
        },
        "id": "Bc_m_khP39RX",
        "outputId": "3b17645a-de56-4431-f9fb-755e2d30f623"
      },
      "outputs": [
        {
          "data": {
            "text/plain": [
              "1.0"
            ]
          },
          "execution_count": 31,
          "metadata": {},
          "output_type": "execute_result"
        }
      ],
      "source": [
        "accuracy_score(training_data['Y_test'], predicted_labels)"
      ]
    },
    {
      "cell_type": "code",
      "execution_count": null,
      "metadata": {
        "colab": {
          "base_uri": "https://localhost:8080/"
        },
        "id": "7Ova372e4GJg",
        "outputId": "ba76a35e-901f-4fd0-a874-fb43ba42b40e"
      },
      "outputs": [
        {
          "name": "stdout",
          "output_type": "stream",
          "text": [
            "Fitting 5 folds for each of 40 candidates, totalling 200 fits\n"
          ]
        },
        {
          "name": "stderr",
          "output_type": "stream",
          "text": [
            "[Parallel(n_jobs=1)]: Using backend SequentialBackend with 1 concurrent workers.\n",
            "[Parallel(n_jobs=1)]: Done 100 out of 100 | elapsed:    0.6s finished\n"
          ]
        },
        {
          "data": {
            "text/plain": [
              "GridSearchCV(cv=5, estimator=RandomForestClassifier(random_state=27, verbose=1),\n",
              "             n_jobs=-1,\n",
              "             param_grid={'criterion': ['gini'], 'max_depth': [8, 9, 10, 11, 12],\n",
              "                         'max_features': ['auto'],\n",
              "                         'n_estimators': range(100, 500, 50)},\n",
              "             scoring='f1_micro', verbose=10)"
            ]
          },
          "execution_count": 32,
          "metadata": {},
          "output_type": "execute_result"
        }
      ],
      "source": [
        "from sklearn.model_selection import GridSearchCV\n",
        "params = {\n",
        "    'n_estimators'      : range(100,500,50),\n",
        "    'max_depth'         : [8, 9, 10, 11, 12],\n",
        "    'max_features': ['auto'],\n",
        "    'criterion' :['gini']\n",
        "}\n",
        "#metrics to consider: f1_micro, f1_macro, roc_auc_ovr\n",
        "gsearch1 = GridSearchCV(estimator = clf, param_grid = params, scoring='f1_micro',n_jobs=-1,verbose = 10, cv=5)\n",
        "gsearch1.fit(training_data['X_train'], training_data['Y_train'])"
      ]
    },
    {
      "cell_type": "markdown",
      "source": [
        "**YA PUEDES CORRER**"
      ],
      "metadata": {
        "id": "hDNL6f5iDuJ6"
      }
    },
    {
      "cell_type": "code",
      "execution_count": 15,
      "metadata": {
        "id": "XT_NOqiA5VEL"
      },
      "outputs": [],
      "source": [
        "import xgboost as xgb\n",
        "import matplotlib.pyplot as plt\n",
        "\n",
        "def plot_compare(metrics,eval_results,epochs):\n",
        "    for m in metrics:\n",
        "        test_score = eval_results['val'][m]\n",
        "        train_score = eval_results['train'][m]\n",
        "        rang = range(0, epochs)\n",
        "        plt.rcParams[\"figure.figsize\"] = [6,6]\n",
        "        plt.plot(rang, test_score,\"c\", label=\"Val\")\n",
        "        plt.plot(rang, train_score,\"orange\", label=\"Train\")\n",
        "        title_name = m + \" plot\"\n",
        "        plt.title(title_name)\n",
        "        plt.xlabel('Iterations')\n",
        "        plt.ylabel(m)\n",
        "        lgd = plt.legend()\n",
        "        plt.show()\n",
        "\n",
        "def fitXgb(sk_model, training_data=training_data,epochs=300):\n",
        "    print('Fitting model...')\n",
        "    sk_model.fit(training_data['X_train'], training_data['Y_train'])\n",
        "    print('Fitting done!')\n",
        "    train = xgb.DMatrix(training_data['X_train'], label=training_data['Y_train'])\n",
        "    val = xgb.DMatrix(training_data['X_val'], label=training_data['Y_val'])\n",
        "    params = sk_model.get_xgb_params()\n",
        "    metrics = ['mlogloss','merror']\n",
        "    params['eval_metric'] = metrics\n",
        "    store = {}\n",
        "    evallist = [(val, 'val'),(train,'train')]\n",
        "    xgb_model = xgb.train(params, train, epochs, evallist,evals_result=store,verbose_eval=100)\n",
        "    print('-- Model Report --')\n",
        "    print('XGBoost Accuracy: '+str(accuracy_score(sk_model.predict(training_data['X_test']), training_data['Y_test'])))\n",
        "    print('XGBoost F1-Score (Micro): '+str(f1_score(sk_model.predict(training_data['X_test']),training_data['Y_test'],average='micro')))\n",
        "    plot_compare(metrics,store,epochs)\n",
        "    features = [str(i) for i in range(183)]\n",
        "    f, ax = plt.subplots(figsize=(10,5))\n",
        "    #plot = sns.barplot(x=features, y=sk_model.feature_importances_)\n",
        "    #ax.set_title('Feature Importance')\n",
        "    #plot.set_xticklabels(plot.get_xticklabels(),rotation='vertical')\n",
        "    plt.show()"
      ]
    },
    {
      "cell_type": "code",
      "execution_count": 17,
      "metadata": {
        "id": "sMWcf0jH4d-D"
      },
      "outputs": [],
      "source": [
        "from xgboost.sklearn import XGBClassifier\n",
        "#initial model\n",
        "xgb1 = XGBClassifier(learning_rate=0.1,\n",
        "                    n_estimators=1000,\n",
        "                    max_depth=3,\n",
        "                    min_child_weight=1,\n",
        "                    gamma=0,\n",
        "                    subsample=0.8,\n",
        "                    colsample_bytree=0.8,\n",
        "                    objective='multi:softmax',\n",
        "                    nthread=-1,\n",
        "                    num_class=5, ###ACTUALIZAR NUMERO DE CLASES DE FORMA SEGUIDA\n",
        "                    seed=27)\n",
        "\n"
      ]
    },
    {
      "cell_type": "code",
      "source": [
        "xgb2 = XGBClassifier(learning_rate=0.05,\n",
        "                    n_estimators=2000,\n",
        "                    max_depth=3,\n",
        "                    min_child_weight=1,\n",
        "                    gamma=0,\n",
        "                    subsample=0.8,\n",
        "                    colsample_bytree=0.8,\n",
        "                    objective='multi:softmax',\n",
        "                    nthread=-1,\n",
        "                    num_class=5, ###ACTUALIZAR NUMERO DE CLASES DE FORMA SEGUIDA\n",
        "                    seed=27)\n",
        "fitXgb(xgb2, training_data, epochs=500)\n"
      ],
      "metadata": {
        "colab": {
          "base_uri": "https://localhost:8080/",
          "height": 1000
        },
        "id": "4G_cTykU-_vR",
        "outputId": "a2eacb16-f08e-407d-8e8d-91f4dd0ecb7b"
      },
      "execution_count": 21,
      "outputs": [
        {
          "output_type": "stream",
          "name": "stdout",
          "text": [
            "Fitting model...\n",
            "Fitting done!\n"
          ]
        },
        {
          "output_type": "stream",
          "name": "stderr",
          "text": [
            "/usr/local/lib/python3.7/dist-packages/xgboost/core.py:528: FutureWarning: Pass `evals` as keyword args.  Passing these as positional arguments will be considered as error in future releases.\n",
            "  format(\", \".join(args_msg)), FutureWarning\n"
          ]
        },
        {
          "output_type": "stream",
          "name": "stdout",
          "text": [
            "[0]\tval-mlogloss:1.54478\tval-merror:0.28556\ttrain-mlogloss:1.54218\ttrain-merror:0.26278\n",
            "[100]\tval-mlogloss:0.45965\tval-merror:0.11222\ttrain-mlogloss:0.39587\ttrain-merror:0.06861\n",
            "[200]\tval-mlogloss:0.26156\tval-merror:0.05111\ttrain-mlogloss:0.18963\ttrain-merror:0.01694\n",
            "[300]\tval-mlogloss:0.16814\tval-merror:0.02667\ttrain-mlogloss:0.10166\ttrain-merror:0.00278\n",
            "[400]\tval-mlogloss:0.11790\tval-merror:0.01778\ttrain-mlogloss:0.05831\ttrain-merror:0.00083\n",
            "[499]\tval-mlogloss:0.08996\tval-merror:0.01111\ttrain-mlogloss:0.03643\ttrain-merror:0.00000\n",
            "-- Model Report --\n",
            "XGBoost Accuracy: 0.994\n",
            "XGBoost F1-Score (Micro): 0.994\n"
          ]
        },
        {
          "output_type": "display_data",
          "data": {
            "text/plain": [
              "<Figure size 432x432 with 1 Axes>"
            ],
            "image/png": "[encoded data removed]"
          },
          "metadata": {
            "needs_background": "light"
          }
        },
        {
          "output_type": "display_data",
          "data": {
            "text/plain": [
              "<Figure size 432x432 with 1 Axes>"
            ],
            "image/png": "[encoded data removed]"
          },
          "metadata": {
            "needs_background": "light"
          }
        },
        {
          "output_type": "display_data",
          "data": {
            "text/plain": [
              "<Figure size 720x360 with 1 Axes>"
            ],
            "image/png": "[encoded data removed]"
          },
          "metadata": {
            "needs_background": "light"
          }
        }
      ]
    },
    {
      "cell_type": "code",
      "source": [
        "xgb2.save_model(\"model_2.json\")"
      ],
      "metadata": {
        "id": "5c0tmPtyEZ8Z"
      },
      "execution_count": 25,
      "outputs": []
    },
    {
      "cell_type": "code",
      "execution_count": 18,
      "metadata": {
        "colab": {
          "base_uri": "https://localhost:8080/",
          "height": 1000
        },
        "id": "jogFHbun5PqU",
        "outputId": "8d5a3032-a5dc-4e7d-9e06-0f41bc5e7644"
      },
      "outputs": [
        {
          "output_type": "stream",
          "name": "stdout",
          "text": [
            "Fitting model...\n",
            "Fitting done!\n"
          ]
        },
        {
          "output_type": "stream",
          "name": "stderr",
          "text": [
            "/usr/local/lib/python3.7/dist-packages/xgboost/core.py:528: FutureWarning: Pass `evals` as keyword args.  Passing these as positional arguments will be considered as error in future releases.\n",
            "  format(\", \".join(args_msg)), FutureWarning\n"
          ]
        },
        {
          "output_type": "stream",
          "name": "stdout",
          "text": [
            "[0]\tval-mlogloss:1.48223\tval-merror:0.28556\ttrain-mlogloss:1.47707\ttrain-merror:0.26278\n",
            "[100]\tval-mlogloss:0.26010\tval-merror:0.04556\ttrain-mlogloss:0.18819\ttrain-merror:0.01472\n",
            "[200]\tval-mlogloss:0.11888\tval-merror:0.02111\ttrain-mlogloss:0.05746\ttrain-merror:0.00083\n",
            "[299]\tval-mlogloss:0.07273\tval-merror:0.01222\ttrain-mlogloss:0.02342\ttrain-merror:0.00000\n",
            "-- Model Report --\n",
            "XGBoost Accuracy: 0.992\n",
            "XGBoost F1-Score (Micro): 0.992\n"
          ]
        },
        {
          "output_type": "display_data",
          "data": {
            "text/plain": [
              "<Figure size 432x432 with 1 Axes>"
            ],
            "image/png": "[encoded data removed]"
          },
          "metadata": {
            "needs_background": "light"
          }
        },
        {
          "output_type": "display_data",
          "data": {
            "text/plain": [
              "<Figure size 432x432 with 1 Axes>"
            ],
            "image/png": "[encoded data removed]"
          },
          "metadata": {
            "needs_background": "light"
          }
        },
        {
          "output_type": "display_data",
          "data": {
            "text/plain": [
              "<Figure size 720x360 with 1 Axes>"
            ],
            "image/png": "[encoded data removed]"
          },
          "metadata": {
            "needs_background": "light"
          }
        }
      ],
      "source": [
        "fitXgb(xgb1, training_data)"
      ]
    },
    {
      "cell_type": "code",
      "execution_count": null,
      "metadata": {
        "id": "aK2jvea77yDP"
      },
      "outputs": [],
      "source": [
        "def getTrainScores(gs):\n",
        "    results = {}\n",
        "    runs = 0\n",
        "    for x,y in zip(list(gs.cv_results_['mean_test_score']), gs.cv_results_['params']):\n",
        "        results[runs] = 'mean:' + str(x) + 'params' + str(y)\n",
        "        runs += 1\n",
        "    best = {'best_mean': gs.best_score_, \"best_param\":gs.best_params_}\n",
        "    return results, best\n",
        "\n"
      ]
    },
    {
      "cell_type": "code",
      "execution_count": null,
      "metadata": {
        "colab": {
          "background_save": true,
          "base_uri": "https://localhost:8080/"
        },
        "id": "FB1Itl4R72Z3",
        "outputId": "9fdc858c-016e-4fe8-d378-3fdef209bb27"
      },
      "outputs": [
        {
          "name": "stdout",
          "output_type": "stream",
          "text": [
            "Fitting 5 folds for each of 6 candidates, totalling 30 fits\n"
          ]
        },
        {
          "data": {
            "text/plain": [
              "GridSearchCV(cv=5,\n",
              "             estimator=XGBClassifier(base_score=0.5, booster='gbtree',\n",
              "                                     callbacks=None, colsample_bylevel=1,\n",
              "                                     colsample_bynode=1, colsample_bytree=0.8,\n",
              "                                     early_stopping_rounds=None,\n",
              "                                     enable_categorical=False, eval_metric=None,\n",
              "                                     gamma=0, gpu_id=-1,\n",
              "                                     grow_policy='depthwise',\n",
              "                                     importance_type=None,\n",
              "                                     interaction_constraints='',\n",
              "                                     learning_rate=0.1, max_bin=256,\n",
              "                                     max_cat_to_onehot=4, max_delta_step=0,\n",
              "                                     max_depth=3, max_leaves=0,\n",
              "                                     min_child_weight=1, missing=nan,\n",
              "                                     monotone_constraints='()',\n",
              "                                     n_estimators=1000, n_jobs=-1, nthread=-1,\n",
              "                                     num_class=5, num_parallel_tree=1,\n",
              "                                     objective='multi:softmax',\n",
              "                                     predictor='auto', ...),\n",
              "             n_jobs=-1,\n",
              "             param_grid={'max_depth': range(3, 8, 2),\n",
              "                         'min_child_weight': range(1, 5, 2)},\n",
              "             scoring='f1_micro', verbose=10)"
            ]
          },
          "execution_count": null,
          "metadata": {},
          "output_type": "execute_result"
        }
      ],
      "source": [
        "param_test1 = {\n",
        " 'max_depth':range(3,8,2),\n",
        " 'min_child_weight':range(1,5,2)\n",
        "}\n",
        "#metrics to consider: f1_micro, f1_macro, roc_auc_ovr\n",
        "gsearch1 = GridSearchCV(estimator = xgb1, param_grid = param_test1, scoring='f1_micro',n_jobs=-1,verbose = 10, cv=5)\n",
        "gsearch1.fit(X_train, y_train)\n",
        "\n"
      ]
    },
    {
      "cell_type": "code",
      "execution_count": null,
      "metadata": {
        "id": "cvPFpkr579Fj"
      },
      "outputs": [],
      "source": [
        "getTrainScores(gsearch1)"
      ]
    },
    {
      "cell_type": "code",
      "execution_count": 19,
      "metadata": {
        "colab": {
          "base_uri": "https://localhost:8080/"
        },
        "id": "IwrEepcLaERc",
        "outputId": "29dfc8f7-a281-40b1-f799-6bee0e3bba8f"
      },
      "outputs": [
        {
          "output_type": "execute_result",
          "data": {
            "text/plain": [
              "1000"
            ]
          },
          "metadata": {},
          "execution_count": 19
        }
      ],
      "source": [
        "xgb1.best_ntree_limit"
      ]
    },
    {
      "cell_type": "code",
      "execution_count": 20,
      "metadata": {
        "id": "MYChFQbHaMu-"
      },
      "outputs": [],
      "source": [
        "xgb1.save_model(\"model_new.json\")"
      ]
    },
    {
      "cell_type": "code",
      "execution_count": null,
      "metadata": {
        "id": "72slkRfqag6W"
      },
      "outputs": [],
      "source": [
        "model_xgb_2 = xgb.Booster()\n",
        "model_xgb_2.load_model(\"model_new.json\")"
      ]
    },
    {
      "cell_type": "code",
      "execution_count": null,
      "metadata": {
        "colab": {
          "base_uri": "https://localhost:8080/"
        },
        "id": "PjorSK_qcAiL",
        "outputId": "73d8c6aa-7170-4b46-b4da-e8bc5cd7c47a"
      },
      "outputs": [
        {
          "data": {
            "text/plain": [
              "array([3., 3., 0., 2., 1., 3., 0., 2., 3., 1., 2., 0., 2., 2., 0., 2., 2.,\n",
              "       1., 3., 0., 0., 2., 3., 2., 1., 3., 2., 0., 1., 1., 1., 2., 0., 3.,\n",
              "       1., 0., 2., 1., 1., 3., 2., 0., 2., 3., 1., 3., 1., 2., 2., 0., 1.,\n",
              "       2., 2., 3., 0., 2., 3., 0., 1., 0., 2., 1., 3., 0., 0., 3., 3., 2.,\n",
              "       3., 1., 1., 2., 3., 1., 1., 1., 3., 0., 1., 1., 3., 3., 1., 0., 2.,\n",
              "       3., 0., 2., 1., 3., 2., 0., 3., 1., 1., 1., 0., 1., 1., 2., 1., 1.,\n",
              "       0., 0., 1., 1., 3., 2., 2., 1., 0., 3., 1., 3., 2., 1., 3., 2., 0.,\n",
              "       0., 0., 3., 0., 0., 1., 3., 2., 0., 2., 0., 3., 1., 2., 0., 1., 0.,\n",
              "       3., 2., 3., 2., 3., 0., 2., 3., 0., 2., 2., 2., 0., 2., 1., 3., 1.,\n",
              "       1., 2., 0., 0., 1., 3., 2., 1., 0., 2., 1., 3., 3., 2., 2., 2., 0.,\n",
              "       2., 2., 3., 1., 1., 3., 0., 1., 1., 0., 0., 2., 0., 0., 0., 0., 0.,\n",
              "       2., 1., 2., 2., 3., 3., 1., 2., 0., 0., 2., 0., 2.], dtype=float32)"
            ]
          },
          "execution_count": 28,
          "metadata": {},
          "output_type": "execute_result"
        }
      ],
      "source": [
        "model_xgb_2.predict(xgb.DMatrix(X_test))"
      ]
    },
    {
      "cell_type": "code",
      "execution_count": null,
      "metadata": {
        "colab": {
          "base_uri": "https://localhost:8080/"
        },
        "id": "gdbeVcm7c4be",
        "outputId": "719b35bc-9489-40f0-af8b-82cd7434519f"
      },
      "outputs": [
        {
          "data": {
            "text/plain": [
              "array([3, 3, 0, 2, 1, 3, 0, 2, 3, 1, 2, 0, 2, 2, 0, 2, 2, 1, 3, 0, 0, 2,\n",
              "       3, 2, 1, 3, 2, 0, 1, 1, 1, 2, 0, 3, 1, 0, 2, 1, 1, 3, 2, 0, 2, 3,\n",
              "       1, 3, 1, 2, 2, 0, 1, 2, 2, 3, 0, 2, 3, 0, 1, 0, 2, 1, 3, 0, 0, 3,\n",
              "       3, 2, 3, 1, 1, 2, 3, 1, 1, 1, 3, 0, 1, 1, 3, 3, 1, 0, 2, 3, 0, 2,\n",
              "       1, 3, 2, 0, 3, 1, 1, 1, 0, 1, 1, 2, 1, 1, 0, 0, 1, 1, 3, 2, 2, 1,\n",
              "       0, 3, 1, 3, 2, 1, 3, 2, 0, 0, 0, 3, 0, 0, 1, 3, 2, 0, 2, 0, 3, 1,\n",
              "       2, 0, 1, 0, 3, 2, 3, 2, 3, 0, 2, 3, 0, 2, 2, 2, 0, 2, 1, 3, 1, 1,\n",
              "       2, 0, 0, 1, 3, 2, 1, 0, 2, 1, 3, 3, 2, 2, 2, 0, 2, 2, 3, 1, 1, 3,\n",
              "       0, 1, 1, 0, 0, 2, 0, 0, 0, 0, 0, 2, 1, 2, 2, 3, 3, 1, 2, 0, 0, 2,\n",
              "       0, 2], dtype=int32)"
            ]
          },
          "execution_count": 29,
          "metadata": {},
          "output_type": "execute_result"
        }
      ],
      "source": [
        "xgb1.predict(X_test)"
      ]
    },
    {
      "cell_type": "code",
      "execution_count": null,
      "metadata": {
        "id": "KQwhU7sU9kox"
      },
      "outputs": [],
      "source": [
        "import pickle\n",
        "\n",
        "pickl = {'model': xgb1}\n",
        "pickle.dump(pickl, open('model_file'+'.p','wb'))"
      ]
    },
    {
      "cell_type": "code",
      "execution_count": null,
      "metadata": {
        "id": "dmSA0OcXtUfn"
      },
      "outputs": [],
      "source": [
        "import pickle\n"
      ]
    },
    {
      "cell_type": "code",
      "execution_count": null,
      "metadata": {
        "id": "qNoRUt289cZW"
      },
      "outputs": [],
      "source": [
        "file_name = 'model_file.p'\n",
        "with open(file_name,'rb') as pickled:\n",
        "    data = pickle.load(pickled)\n",
        "    model = data['model']\n",
        "#input transformed values to make a prediction in FlaskAPI\n"
      ]
    },
    {
      "cell_type": "code",
      "execution_count": null,
      "metadata": {
        "id": "iEKDLi4EUQmA"
      },
      "outputs": [],
      "source": [
        "model.save_model(\"model.json\")"
      ]
    },
    {
      "cell_type": "code",
      "execution_count": null,
      "metadata": {
        "id": "J5oPW8T2UEXP"
      },
      "outputs": [],
      "source": [
        "model_xgb_2 = xgb.Booster()\n",
        "model_xgb_2.load_model(\"model.json\")"
      ]
    },
    {
      "cell_type": "code",
      "execution_count": null,
      "metadata": {
        "colab": {
          "base_uri": "https://localhost:8080/"
        },
        "id": "__aCQt8WOfSU",
        "outputId": "e48b1774-9566-4568-f2c5-bfb6590b5a95"
      },
      "outputs": [
        {
          "data": {
            "text/plain": [
              "array([0, 0, 0, 2, 3, 0, 3, 2, 2, 2, 2, 1, 1, 0, 1, 1, 2, 3, 3, 2, 0, 0,\n",
              "       3, 3, 0, 1, 3, 1, 2, 3, 2, 0, 3, 2, 1, 0, 1, 1, 2, 1, 2, 1, 3, 3,\n",
              "       2, 0, 1, 0, 1, 0, 2, 0, 3, 0, 2, 3, 1, 2, 3, 3, 0, 0, 2, 3, 3, 2,\n",
              "       1, 1, 2, 3, 3, 3, 3, 1, 0, 3, 0, 2, 0, 3, 2, 3, 0, 3, 2, 0, 1, 1,\n",
              "       2, 1, 2, 2, 1, 3, 2, 2, 2, 1, 3, 1, 1, 0, 1, 3, 0, 2, 3, 1, 2, 1,\n",
              "       3, 3, 2, 2, 0, 0, 3, 2, 3, 0, 1, 0, 3, 2, 1, 1, 1, 3, 0, 3, 1, 2,\n",
              "       1, 1, 1, 2, 1, 1, 1, 3, 2, 3, 1, 3, 0, 1, 1, 3, 1, 1, 1, 2, 2, 2,\n",
              "       2, 1, 1, 1, 1, 3, 2, 3, 3, 0, 3, 3, 3, 1, 2, 0, 0, 1, 2, 0, 3, 1,\n",
              "       1, 1, 1, 0, 3, 0, 3, 1, 3, 2, 0, 1, 2, 3, 2, 0, 1, 1, 0, 0, 0, 1,\n",
              "       0, 2])"
            ]
          },
          "execution_count": 36,
          "metadata": {},
          "output_type": "execute_result"
        }
      ],
      "source": [
        "model.predict(X_test)"
      ]
    },
    {
      "cell_type": "code",
      "execution_count": null,
      "metadata": {
        "id": "i7rRiX2y9ZHf"
      },
      "outputs": [],
      "source": [
        "y_test.to_csv(\"y_test.csv\",mode='a',index=False)\n"
      ]
    },
    {
      "cell_type": "code",
      "execution_count": null,
      "metadata": {
        "colab": {
          "base_uri": "https://localhost:8080/",
          "height": 35
        },
        "id": "-oY6kaiwIp2O",
        "outputId": "c41a1d68-4a1e-4411-fc79-fe1f965300e5"
      },
      "outputs": [
        {
          "data": {
            "application/vnd.google.colaboratory.intrinsic+json": {
              "type": "string"
            },
            "text/plain": [
              "'0.90'"
            ]
          },
          "execution_count": 5,
          "metadata": {},
          "output_type": "execute_result"
        }
      ],
      "source": [
        "import xgboost as xgb\n",
        "xgb.__version__"
      ]
    },
    {
      "cell_type": "code",
      "execution_count": null,
      "metadata": {
        "id": "2hJ3twpLt7hO"
      },
      "outputs": [],
      "source": [
        "model.save_model('things.bin')"
      ]
    },
    {
      "cell_type": "code",
      "execution_count": null,
      "metadata": {
        "colab": {
          "base_uri": "https://localhost:8080/"
        },
        "id": "RPSAaVhptcPR",
        "outputId": "819cf507-fda5-4a79-cddb-cf672c1deb68"
      },
      "outputs": [
        {
          "name": "stdout",
          "output_type": "stream",
          "text": [
            "Collecting catboost\n",
            "  Downloading catboost-1.0.5-cp37-none-manylinux1_x86_64.whl (76.6 MB)\n",
            "\u001b[K     |████████████████████████████████| 76.6 MB 61 kB/s \n",
            "\u001b[?25hRequirement already satisfied: pandas>=0.24.0 in /usr/local/lib/python3.7/dist-packages (from catboost) (1.3.5)\n",
            "Requirement already satisfied: six in /usr/local/lib/python3.7/dist-packages (from catboost) (1.15.0)\n",
            "Requirement already satisfied: scipy in /usr/local/lib/python3.7/dist-packages (from catboost) (1.4.1)\n",
            "Requirement already satisfied: graphviz in /usr/local/lib/python3.7/dist-packages (from catboost) (0.10.1)\n",
            "Requirement already satisfied: plotly in /usr/local/lib/python3.7/dist-packages (from catboost) (5.5.0)\n",
            "Requirement already satisfied: matplotlib in /usr/local/lib/python3.7/dist-packages (from catboost) (3.2.2)\n",
            "Requirement already satisfied: numpy>=1.16.0 in /usr/local/lib/python3.7/dist-packages (from catboost) (1.21.6)\n",
            "Requirement already satisfied: python-dateutil>=2.7.3 in /usr/local/lib/python3.7/dist-packages (from pandas>=0.24.0->catboost) (2.8.2)\n",
            "Requirement already satisfied: pytz>=2017.3 in /usr/local/lib/python3.7/dist-packages (from pandas>=0.24.0->catboost) (2022.1)\n",
            "Requirement already satisfied: pyparsing!=2.0.4,!=2.1.2,!=2.1.6,>=2.0.1 in /usr/local/lib/python3.7/dist-packages (from matplotlib->catboost) (3.0.8)\n",
            "Requirement already satisfied: cycler>=0.10 in /usr/local/lib/python3.7/dist-packages (from matplotlib->catboost) (0.11.0)\n",
            "Requirement already satisfied: kiwisolver>=1.0.1 in /usr/local/lib/python3.7/dist-packages (from matplotlib->catboost) (1.4.2)\n",
            "Requirement already satisfied: typing-extensions in /usr/local/lib/python3.7/dist-packages (from kiwisolver>=1.0.1->matplotlib->catboost) (4.2.0)\n",
            "Requirement already satisfied: tenacity>=6.2.0 in /usr/local/lib/python3.7/dist-packages (from plotly->catboost) (8.0.1)\n",
            "Installing collected packages: catboost\n",
            "Successfully installed catboost-1.0.5\n",
            "Requirement already satisfied: ipywidgets in /usr/local/lib/python3.7/dist-packages (7.7.0)\n",
            "Requirement already satisfied: nbformat>=4.2.0 in /usr/local/lib/python3.7/dist-packages (from ipywidgets) (5.3.0)\n",
            "Requirement already satisfied: traitlets>=4.3.1 in /usr/local/lib/python3.7/dist-packages (from ipywidgets) (5.1.1)\n",
            "Requirement already satisfied: ipython-genutils~=0.2.0 in /usr/local/lib/python3.7/dist-packages (from ipywidgets) (0.2.0)\n",
            "Requirement already satisfied: ipykernel>=4.5.1 in /usr/local/lib/python3.7/dist-packages (from ipywidgets) (4.10.1)\n",
            "Requirement already satisfied: jupyterlab-widgets>=1.0.0 in /usr/local/lib/python3.7/dist-packages (from ipywidgets) (1.1.0)\n",
            "Requirement already satisfied: ipython>=4.0.0 in /usr/local/lib/python3.7/dist-packages (from ipywidgets) (5.5.0)\n",
            "Requirement already satisfied: widgetsnbextension~=3.6.0 in /usr/local/lib/python3.7/dist-packages (from ipywidgets) (3.6.0)\n",
            "Requirement already satisfied: tornado>=4.0 in /usr/local/lib/python3.7/dist-packages (from ipykernel>=4.5.1->ipywidgets) (5.1.1)\n",
            "Requirement already satisfied: jupyter-client in /usr/local/lib/python3.7/dist-packages (from ipykernel>=4.5.1->ipywidgets) (5.3.5)\n",
            "Requirement already satisfied: simplegeneric>0.8 in /usr/local/lib/python3.7/dist-packages (from ipython>=4.0.0->ipywidgets) (0.8.1)\n",
            "Requirement already satisfied: pexpect in /usr/local/lib/python3.7/dist-packages (from ipython>=4.0.0->ipywidgets) (4.8.0)\n",
            "Requirement already satisfied: pickleshare in /usr/local/lib/python3.7/dist-packages (from ipython>=4.0.0->ipywidgets) (0.7.5)\n",
            "Requirement already satisfied: decorator in /usr/local/lib/python3.7/dist-packages (from ipython>=4.0.0->ipywidgets) (4.4.2)\n",
            "Requirement already satisfied: prompt-toolkit<2.0.0,>=1.0.4 in /usr/local/lib/python3.7/dist-packages (from ipython>=4.0.0->ipywidgets) (1.0.18)\n",
            "Requirement already satisfied: setuptools>=18.5 in /usr/local/lib/python3.7/dist-packages (from ipython>=4.0.0->ipywidgets) (57.4.0)\n",
            "Requirement already satisfied: pygments in /usr/local/lib/python3.7/dist-packages (from ipython>=4.0.0->ipywidgets) (2.6.1)\n",
            "Requirement already satisfied: jsonschema>=2.6 in /usr/local/lib/python3.7/dist-packages (from nbformat>=4.2.0->ipywidgets) (4.3.3)\n",
            "Requirement already satisfied: fastjsonschema in /usr/local/lib/python3.7/dist-packages (from nbformat>=4.2.0->ipywidgets) (2.15.3)\n",
            "Requirement already satisfied: jupyter-core in /usr/local/lib/python3.7/dist-packages (from nbformat>=4.2.0->ipywidgets) (4.10.0)\n",
            "Requirement already satisfied: attrs>=17.4.0 in /usr/local/lib/python3.7/dist-packages (from jsonschema>=2.6->nbformat>=4.2.0->ipywidgets) (21.4.0)\n",
            "Requirement already satisfied: importlib-resources>=1.4.0 in /usr/local/lib/python3.7/dist-packages (from jsonschema>=2.6->nbformat>=4.2.0->ipywidgets) (5.7.1)\n",
            "Requirement already satisfied: importlib-metadata in /usr/local/lib/python3.7/dist-packages (from jsonschema>=2.6->nbformat>=4.2.0->ipywidgets) (4.11.3)\n",
            "Requirement already satisfied: typing-extensions in /usr/local/lib/python3.7/dist-packages (from jsonschema>=2.6->nbformat>=4.2.0->ipywidgets) (4.2.0)\n",
            "Requirement already satisfied: pyrsistent!=0.17.0,!=0.17.1,!=0.17.2,>=0.14.0 in /usr/local/lib/python3.7/dist-packages (from jsonschema>=2.6->nbformat>=4.2.0->ipywidgets) (0.18.1)\n",
            "Requirement already satisfied: zipp>=3.1.0 in /usr/local/lib/python3.7/dist-packages (from importlib-resources>=1.4.0->jsonschema>=2.6->nbformat>=4.2.0->ipywidgets) (3.8.0)\n",
            "Requirement already satisfied: wcwidth in /usr/local/lib/python3.7/dist-packages (from prompt-toolkit<2.0.0,>=1.0.4->ipython>=4.0.0->ipywidgets) (0.2.5)\n",
            "Requirement already satisfied: six>=1.9.0 in /usr/local/lib/python3.7/dist-packages (from prompt-toolkit<2.0.0,>=1.0.4->ipython>=4.0.0->ipywidgets) (1.15.0)\n",
            "Requirement already satisfied: notebook>=4.4.1 in /usr/local/lib/python3.7/dist-packages (from widgetsnbextension~=3.6.0->ipywidgets) (5.3.1)\n",
            "Requirement already satisfied: Send2Trash in /usr/local/lib/python3.7/dist-packages (from notebook>=4.4.1->widgetsnbextension~=3.6.0->ipywidgets) (1.8.0)\n",
            "Requirement already satisfied: terminado>=0.8.1 in /usr/local/lib/python3.7/dist-packages (from notebook>=4.4.1->widgetsnbextension~=3.6.0->ipywidgets) (0.13.3)\n",
            "Requirement already satisfied: nbconvert in /usr/local/lib/python3.7/dist-packages (from notebook>=4.4.1->widgetsnbextension~=3.6.0->ipywidgets) (5.6.1)\n",
            "Requirement already satisfied: jinja2 in /usr/local/lib/python3.7/dist-packages (from notebook>=4.4.1->widgetsnbextension~=3.6.0->ipywidgets) (2.11.3)\n",
            "Requirement already satisfied: pyzmq>=13 in /usr/local/lib/python3.7/dist-packages (from jupyter-client->ipykernel>=4.5.1->ipywidgets) (22.3.0)\n",
            "Requirement already satisfied: python-dateutil>=2.1 in /usr/local/lib/python3.7/dist-packages (from jupyter-client->ipykernel>=4.5.1->ipywidgets) (2.8.2)\n",
            "Requirement already satisfied: ptyprocess in /usr/local/lib/python3.7/dist-packages (from terminado>=0.8.1->notebook>=4.4.1->widgetsnbextension~=3.6.0->ipywidgets) (0.7.0)\n",
            "Requirement already satisfied: MarkupSafe>=0.23 in /usr/local/lib/python3.7/dist-packages (from jinja2->notebook>=4.4.1->widgetsnbextension~=3.6.0->ipywidgets) (2.0.1)\n",
            "Requirement already satisfied: bleach in /usr/local/lib/python3.7/dist-packages (from nbconvert->notebook>=4.4.1->widgetsnbextension~=3.6.0->ipywidgets) (5.0.0)\n",
            "Requirement already satisfied: defusedxml in /usr/local/lib/python3.7/dist-packages (from nbconvert->notebook>=4.4.1->widgetsnbextension~=3.6.0->ipywidgets) (0.7.1)\n",
            "Requirement already satisfied: entrypoints>=0.2.2 in /usr/local/lib/python3.7/dist-packages (from nbconvert->notebook>=4.4.1->widgetsnbextension~=3.6.0->ipywidgets) (0.4)\n",
            "Requirement already satisfied: testpath in /usr/local/lib/python3.7/dist-packages (from nbconvert->notebook>=4.4.1->widgetsnbextension~=3.6.0->ipywidgets) (0.6.0)\n",
            "Requirement already satisfied: mistune<2,>=0.8.1 in /usr/local/lib/python3.7/dist-packages (from nbconvert->notebook>=4.4.1->widgetsnbextension~=3.6.0->ipywidgets) (0.8.4)\n",
            "Requirement already satisfied: pandocfilters>=1.4.1 in /usr/local/lib/python3.7/dist-packages (from nbconvert->notebook>=4.4.1->widgetsnbextension~=3.6.0->ipywidgets) (1.5.0)\n",
            "Requirement already satisfied: webencodings in /usr/local/lib/python3.7/dist-packages (from bleach->nbconvert->notebook>=4.4.1->widgetsnbextension~=3.6.0->ipywidgets) (0.5.1)\n"
          ]
        }
      ],
      "source": [
        "!pip install catboost\n",
        "!pip install ipywidgets"
      ]
    },
    {
      "cell_type": "code",
      "execution_count": null,
      "metadata": {
        "colab": {
          "base_uri": "https://localhost:8080/"
        },
        "id": "5HiUYfvvteii",
        "outputId": "96a0ecaf-1e07-451a-a866-6cab5ace2bbb"
      },
      "outputs": [
        {
          "name": "stdout",
          "output_type": "stream",
          "text": [
            "1.0.5\n"
          ]
        }
      ],
      "source": [
        "import catboost\n",
        "from catboost import CatBoostClassifier, Pool, metrics, cv\n",
        "print(catboost.__version__)"
      ]
    },
    {
      "cell_type": "code",
      "execution_count": null,
      "metadata": {
        "id": "-ZKSQnaXvtPv"
      },
      "outputs": [],
      "source": [
        "model2 = xgb.XGBRegressor()\n",
        "model2.load_model(\"things.bin\")"
      ]
    },
    {
      "cell_type": "code",
      "execution_count": null,
      "metadata": {
        "colab": {
          "base_uri": "https://localhost:8080/"
        },
        "id": "2DEEfRhx2K6E",
        "outputId": "d7bdd753-a67b-402c-ae78-365de4df495c"
      },
      "outputs": [
        {
          "name": "stdout",
          "output_type": "stream",
          "text": [
            "XGBClassifier(colsample_bytree=0.8, max_depth=5, missing=nan, n_estimators=1000,\n",
            "              nthread=4, num_class=4, objective='multi:softprob', seed=27,\n",
            "              subsample=0.8)\n"
          ]
        }
      ],
      "source": [
        "print(model)"
      ]
    },
    {
      "cell_type": "code",
      "execution_count": null,
      "metadata": {
        "colab": {
          "base_uri": "https://localhost:8080/",
          "height": 166
        },
        "id": "ngUoM69nH2ca",
        "outputId": "6b9eb08a-814d-4c22-92f2-0e92ca70a742"
      },
      "outputs": [
        {
          "ename": "NameError",
          "evalue": "ignored",
          "output_type": "error",
          "traceback": [
            "\u001b[0;31m---------------------------------------------------------------------------\u001b[0m",
            "\u001b[0;31mNameError\u001b[0m                                 Traceback (most recent call last)",
            "\u001b[0;32m<ipython-input-2-924b5b0f57b6>\u001b[0m in \u001b[0;36m<module>\u001b[0;34m()\u001b[0m\n\u001b[0;32m----> 1\u001b[0;31m \u001b[0mprint\u001b[0m\u001b[0;34m(\u001b[0m\u001b[0mX_test\u001b[0m\u001b[0;34m)\u001b[0m\u001b[0;34m\u001b[0m\u001b[0;34m\u001b[0m\u001b[0m\n\u001b[0m",
            "\u001b[0;31mNameError\u001b[0m: name 'X_test' is not defined"
          ]
        }
      ],
      "source": [
        "print(X_test)"
      ]
    },
    {
      "cell_type": "code",
      "execution_count": null,
      "metadata": {
        "id": "6eFgPLkbAbNU"
      },
      "outputs": [],
      "source": [
        "result = model.predict(X_test)\n",
        "pd.DataFrame(result).to_csv(\"y_test01.csv\",mode='a',index=False)"
      ]
    },
    {
      "cell_type": "code",
      "execution_count": null,
      "metadata": {
        "id": "WB6c5mDFt7TN"
      },
      "outputs": [],
      "source": [
        "model = CatBoostClassifier(\n",
        "    custom_loss=[metrics.Accuracy()],\n",
        "    task_type='GPU',\n",
        "    verbose=20\n",
        ")\n"
      ]
    },
    {
      "cell_type": "code",
      "execution_count": null,
      "metadata": {
        "colab": {
          "base_uri": "https://localhost:8080/"
        },
        "id": "WoFohfFNt_SN",
        "outputId": "f594aed0-a162-4e34-9f06-82785ca4db36"
      },
      "outputs": [
        {
          "name": "stdout",
          "output_type": "stream",
          "text": [
            "Learning rate set to 0.1091\n",
            "0:\tlearn: 1.1286964\ttest: 1.1337705\tbest: 1.1337705 (0)\ttotal: 16.2ms\tremaining: 16.2s\n",
            "20:\tlearn: 0.1171706\ttest: 0.1313342\tbest: 0.1313342 (20)\ttotal: 323ms\tremaining: 15.1s\n",
            "40:\tlearn: 0.0311825\ttest: 0.0410651\tbest: 0.0410651 (40)\ttotal: 618ms\tremaining: 14.5s\n",
            "60:\tlearn: 0.0141356\ttest: 0.0216575\tbest: 0.0216575 (60)\ttotal: 911ms\tremaining: 14s\n",
            "80:\tlearn: 0.0086119\ttest: 0.0143971\tbest: 0.0143971 (80)\ttotal: 1.23s\tremaining: 13.9s\n",
            "100:\tlearn: 0.0059223\ttest: 0.0107979\tbest: 0.0107979 (100)\ttotal: 1.52s\tremaining: 13.6s\n",
            "120:\tlearn: 0.0044301\ttest: 0.0084951\tbest: 0.0084951 (120)\ttotal: 1.81s\tremaining: 13.1s\n",
            "140:\tlearn: 0.0036351\ttest: 0.0072651\tbest: 0.0072651 (140)\ttotal: 2.1s\tremaining: 12.8s\n",
            "160:\tlearn: 0.0030678\ttest: 0.0063638\tbest: 0.0063638 (160)\ttotal: 2.41s\tremaining: 12.6s\n",
            "180:\tlearn: 0.0026178\ttest: 0.0057650\tbest: 0.0057650 (180)\ttotal: 2.71s\tremaining: 12.2s\n",
            "200:\tlearn: 0.0023285\ttest: 0.0053323\tbest: 0.0053323 (200)\ttotal: 3.01s\tremaining: 12s\n",
            "220:\tlearn: 0.0020679\ttest: 0.0049757\tbest: 0.0049757 (220)\ttotal: 3.32s\tremaining: 11.7s\n",
            "240:\tlearn: 0.0018714\ttest: 0.0046017\tbest: 0.0046017 (240)\ttotal: 3.62s\tremaining: 11.4s\n",
            "260:\tlearn: 0.0016956\ttest: 0.0042623\tbest: 0.0042623 (260)\ttotal: 3.94s\tremaining: 11.1s\n",
            "280:\tlearn: 0.0015698\ttest: 0.0040176\tbest: 0.0040176 (280)\ttotal: 4.25s\tremaining: 10.9s\n",
            "300:\tlearn: 0.0014633\ttest: 0.0038057\tbest: 0.0038057 (300)\ttotal: 4.54s\tremaining: 10.6s\n",
            "320:\tlearn: 0.0013779\ttest: 0.0036157\tbest: 0.0036157 (320)\ttotal: 4.84s\tremaining: 10.2s\n",
            "340:\tlearn: 0.0012775\ttest: 0.0034511\tbest: 0.0034511 (340)\ttotal: 5.14s\tremaining: 9.94s\n",
            "360:\tlearn: 0.0011962\ttest: 0.0032760\tbest: 0.0032760 (360)\ttotal: 5.45s\tremaining: 9.64s\n",
            "380:\tlearn: 0.0011362\ttest: 0.0031328\tbest: 0.0031328 (380)\ttotal: 5.76s\tremaining: 9.36s\n",
            "400:\tlearn: 0.0010707\ttest: 0.0030190\tbest: 0.0030190 (400)\ttotal: 6.05s\tremaining: 9.04s\n",
            "420:\tlearn: 0.0010160\ttest: 0.0028998\tbest: 0.0028998 (420)\ttotal: 6.34s\tremaining: 8.72s\n",
            "440:\tlearn: 0.0009709\ttest: 0.0028005\tbest: 0.0028005 (440)\ttotal: 6.62s\tremaining: 8.4s\n",
            "460:\tlearn: 0.0009260\ttest: 0.0026990\tbest: 0.0026990 (460)\ttotal: 6.91s\tremaining: 8.08s\n",
            "480:\tlearn: 0.0008838\ttest: 0.0026158\tbest: 0.0026158 (480)\ttotal: 7.2s\tremaining: 7.77s\n",
            "500:\tlearn: 0.0008444\ttest: 0.0025140\tbest: 0.0025140 (500)\ttotal: 7.52s\tremaining: 7.49s\n",
            "520:\tlearn: 0.0008087\ttest: 0.0024486\tbest: 0.0024486 (520)\ttotal: 7.81s\tremaining: 7.18s\n",
            "540:\tlearn: 0.0007770\ttest: 0.0023574\tbest: 0.0023574 (540)\ttotal: 8.1s\tremaining: 6.87s\n",
            "560:\tlearn: 0.0007445\ttest: 0.0023026\tbest: 0.0023026 (560)\ttotal: 8.41s\tremaining: 6.58s\n",
            "580:\tlearn: 0.0007184\ttest: 0.0022273\tbest: 0.0022273 (580)\ttotal: 8.7s\tremaining: 6.27s\n",
            "600:\tlearn: 0.0006967\ttest: 0.0021750\tbest: 0.0021750 (600)\ttotal: 9s\tremaining: 5.97s\n",
            "620:\tlearn: 0.0006706\ttest: 0.0021180\tbest: 0.0021180 (620)\ttotal: 9.32s\tremaining: 5.69s\n",
            "640:\tlearn: 0.0006484\ttest: 0.0020577\tbest: 0.0020577 (640)\ttotal: 9.6s\tremaining: 5.38s\n",
            "660:\tlearn: 0.0006267\ttest: 0.0019954\tbest: 0.0019954 (660)\ttotal: 9.89s\tremaining: 5.07s\n",
            "680:\tlearn: 0.0006070\ttest: 0.0019488\tbest: 0.0019488 (680)\ttotal: 10.2s\tremaining: 4.77s\n",
            "700:\tlearn: 0.0005901\ttest: 0.0019082\tbest: 0.0019082 (700)\ttotal: 10.5s\tremaining: 4.47s\n",
            "720:\tlearn: 0.0005747\ttest: 0.0018774\tbest: 0.0018774 (720)\ttotal: 10.8s\tremaining: 4.17s\n",
            "740:\tlearn: 0.0005580\ttest: 0.0018384\tbest: 0.0018384 (740)\ttotal: 11.1s\tremaining: 3.87s\n",
            "760:\tlearn: 0.0005421\ttest: 0.0018032\tbest: 0.0018032 (760)\ttotal: 11.4s\tremaining: 3.58s\n",
            "780:\tlearn: 0.0005274\ttest: 0.0017656\tbest: 0.0017656 (780)\ttotal: 11.7s\tremaining: 3.27s\n",
            "800:\tlearn: 0.0005156\ttest: 0.0017277\tbest: 0.0017277 (800)\ttotal: 12s\tremaining: 2.98s\n",
            "820:\tlearn: 0.0005025\ttest: 0.0016871\tbest: 0.0016871 (820)\ttotal: 12.3s\tremaining: 2.67s\n",
            "840:\tlearn: 0.0004888\ttest: 0.0016575\tbest: 0.0016575 (840)\ttotal: 12.6s\tremaining: 2.37s\n",
            "860:\tlearn: 0.0004775\ttest: 0.0016267\tbest: 0.0016267 (860)\ttotal: 12.8s\tremaining: 2.07s\n",
            "880:\tlearn: 0.0004670\ttest: 0.0016038\tbest: 0.0016038 (880)\ttotal: 13.1s\tremaining: 1.77s\n",
            "900:\tlearn: 0.0004565\ttest: 0.0015735\tbest: 0.0015735 (900)\ttotal: 13.4s\tremaining: 1.48s\n",
            "920:\tlearn: 0.0004478\ttest: 0.0015496\tbest: 0.0015496 (920)\ttotal: 13.7s\tremaining: 1.18s\n",
            "940:\tlearn: 0.0004378\ttest: 0.0015201\tbest: 0.0015201 (940)\ttotal: 14s\tremaining: 879ms\n",
            "960:\tlearn: 0.0004287\ttest: 0.0014948\tbest: 0.0014948 (960)\ttotal: 14.3s\tremaining: 581ms\n",
            "980:\tlearn: 0.0004187\ttest: 0.0014652\tbest: 0.0014652 (980)\ttotal: 14.6s\tremaining: 283ms\n",
            "999:\tlearn: 0.0004106\ttest: 0.0014465\tbest: 0.0014465 (999)\ttotal: 14.9s\tremaining: 0us\n",
            "bestTest = 0.001446467141\n",
            "bestIteration = 999\n"
          ]
        },
        {
          "data": {
            "text/plain": [
              "<catboost.core.CatBoostClassifier at 0x7fe1bd0d49d0>"
            ]
          },
          "execution_count": 15,
          "metadata": {},
          "output_type": "execute_result"
        }
      ],
      "source": [
        "model.fit(\n",
        "    X_train, y_train,\n",
        "    eval_set=(X_validation, y_validation),\n",
        "    #plot=True #Plot not necesary in result replication\n",
        ")"
      ]
    },
    {
      "cell_type": "code",
      "execution_count": null,
      "metadata": {
        "colab": {
          "base_uri": "https://localhost:8080/",
          "height": 479
        },
        "id": "RkEoig61ur4o",
        "outputId": "a8628212-568e-493c-ae9b-e121f0cbc340"
      },
      "outputs": [
        {
          "name": "stdout",
          "output_type": "stream",
          "text": [
            "Training on fold [0/3]\n"
          ]
        },
        {
          "ename": "CatBoostError",
          "evalue": "ignored",
          "output_type": "error",
          "traceback": [
            "\u001b[0;31m---------------------------------------------------------------------------\u001b[0m",
            "\u001b[0;31mCatBoostError\u001b[0m                             Traceback (most recent call last)",
            "\u001b[0;32m<ipython-input-16-67c8c0339f9a>\u001b[0m in \u001b[0;36m<module>\u001b[0;34m()\u001b[0m\n\u001b[1;32m      5\u001b[0m cv_data = cv(\n\u001b[1;32m      6\u001b[0m     \u001b[0mPool\u001b[0m\u001b[0;34m(\u001b[0m\u001b[0mX_train\u001b[0m\u001b[0;34m,\u001b[0m \u001b[0my_train\u001b[0m\u001b[0;34m)\u001b[0m\u001b[0;34m,\u001b[0m\u001b[0;34m\u001b[0m\u001b[0;34m\u001b[0m\u001b[0m\n\u001b[0;32m----> 7\u001b[0;31m     \u001b[0mcv_params\u001b[0m\u001b[0;34m,\u001b[0m\u001b[0;34m\u001b[0m\u001b[0;34m\u001b[0m\u001b[0m\n\u001b[0m\u001b[1;32m      8\u001b[0m     \u001b[0;31m#plot=True,\u001b[0m\u001b[0;34m\u001b[0m\u001b[0;34m\u001b[0m\u001b[0;34m\u001b[0m\u001b[0m\n\u001b[1;32m      9\u001b[0m ) \n",
            "\u001b[0;32m/usr/local/lib/python3.7/dist-packages/catboost/core.py\u001b[0m in \u001b[0;36mcv\u001b[0;34m(pool, params, dtrain, iterations, num_boost_round, fold_count, nfold, inverted, partition_random_seed, seed, shuffle, logging_level, stratified, as_pandas, metric_period, verbose, verbose_eval, plot, early_stopping_rounds, save_snapshot, snapshot_file, snapshot_interval, metric_update_interval, folds, type, return_models, log_cout, log_cerr)\u001b[0m\n\u001b[1;32m   6414\u001b[0m         \u001b[0;32mif\u001b[0m \u001b[0;32mnot\u001b[0m \u001b[0mreturn_models\u001b[0m\u001b[0;34m:\u001b[0m\u001b[0;34m\u001b[0m\u001b[0;34m\u001b[0m\u001b[0m\n\u001b[1;32m   6415\u001b[0m             return _cv(params, pool, fold_count, inverted, partition_random_seed, shuffle, stratified,\n\u001b[0;32m-> 6416\u001b[0;31m                     metric_update_interval, as_pandas, folds, type, return_models)\n\u001b[0m\u001b[1;32m   6417\u001b[0m         \u001b[0;32melse\u001b[0m\u001b[0;34m:\u001b[0m\u001b[0;34m\u001b[0m\u001b[0;34m\u001b[0m\u001b[0m\n\u001b[1;32m   6418\u001b[0m             results, cv_models = _cv(params, pool, fold_count, inverted, partition_random_seed, shuffle, stratified,\n",
            "\u001b[0;32m_catboost.pyx\u001b[0m in \u001b[0;36m_catboost._cv\u001b[0;34m()\u001b[0m\n",
            "\u001b[0;32m_catboost.pyx\u001b[0m in \u001b[0;36m_catboost._cv\u001b[0;34m()\u001b[0m\n",
            "\u001b[0;31mCatBoostError\u001b[0m: catboost/private/libs/target/target_converter.cpp:379: Target with classes must contain only 2 unique values for binary classification"
          ]
        }
      ],
      "source": [
        "cv_params = model.get_params()\n",
        "cv_params.update({\n",
        "    'loss_function': metrics.Logloss()\n",
        "})\n",
        "cv_data = cv(\n",
        "    Pool(X_train, y_train),\n",
        "    cv_params,\n",
        "    #plot=True,\n",
        ") "
      ]
    },
    {
      "cell_type": "code",
      "execution_count": null,
      "metadata": {
        "id": "tD--uLSLvyzY"
      },
      "outputs": [],
      "source": [
        "print('Best validation accuracy score: {:.2f}±{:.2f} on step {}'.format(\n",
        "    np.max(cv_data['test-Accuracy-mean']),\n",
        "    cv_data['test-Accuracy-std'][np.argmax(cv_data['test-Accuracy-mean'])],\n",
        "    np.argmax(cv_data['test-Accuracy-mean'])\n",
        "))\n",
        "print('Precise validation accuracy score: {}'.format(np.max(cv_data['test-Accuracy-mean'])))"
      ]
    },
    {
      "cell_type": "code",
      "execution_count": null,
      "metadata": {
        "id": "BF5Awlfkv0X_"
      },
      "outputs": [],
      "source": [
        "predictions = model.predict(X_test)\n",
        "predictions_probs = model.predict_proba(X_test)\n",
        "print(predictions[:10])\n",
        "print(predictions_probs[:10])"
      ]
    }
  ],
  "metadata": {
    "accelerator": "GPU",
    "colab": {
      "collapsed_sections": [],
      "name": "AI_chair_XG_Boost.ipynb",
      "provenance": []
    },
    "kernelspec": {
      "display_name": "Python 3",
      "name": "python3"
    },
    "language_info": {
      "name": "python"
    }
  },
  "nbformat": 4,
  "nbformat_minor": 0
}